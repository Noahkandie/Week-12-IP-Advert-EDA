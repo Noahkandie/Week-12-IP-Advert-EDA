{
  "nbformat": 4,
  "nbformat_minor": 0,
  "metadata": {
    "colab": {
      "name": "Week 12 IP core .ipynb",
      "provenance": [],
      "authorship_tag": "ABX9TyO28MdHPYne3HDp7BcYTzPA",
      "include_colab_link": true
    },
    "kernelspec": {
      "name": "python3",
      "display_name": "Python 3"
    },
    "language_info": {
      "name": "python"
    }
  },
  "cells": [
    {
      "cell_type": "markdown",
      "metadata": {
        "id": "view-in-github",
        "colab_type": "text"
      },
      "source": [
        "<a href=\"https://colab.research.google.com/github/Noahkandie/Week-12-IP-Advert-EDA/blob/main/Week_12_IP_core_.ipynb\" target=\"_parent\"><img src=\"https://colab.research.google.com/assets/colab-badge.svg\" alt=\"Open In Colab\"/></a>"
      ]
    },
    {
      "cell_type": "markdown",
      "metadata": {
        "id": "oP3l5b_OTM_r"
      },
      "source": [
        "##1. Defining the Question\n",
        "## a) Specifying the Data Analytic Question\n",
        "\n",
        "Identify which individuals are most likely to click on ads from a cryptography course website\n",
        "\n",
        "## b) Defining the Metric for Success\n",
        "\n",
        "For this sttudy, we will perform conclusive Exploratory Data Analysis to enable us identify individuals who are most likely to click on ads.\n",
        "## c) Understanding the context\n",
        "\n",
        "A Kenyan entrepreneur has created an online cryptography course and would want to advertise it on her blog. She currently targets audiences originating from various countries. In the past, she ran ads to advertise a related course on the same blog and collected data in the process. Using the data previously collected, she is looking to do a study to identify which individuals are most likely to click on her ads.\n",
        "## d) Data Relevance\n",
        "\n",
        "Data is provided was collected in the past but from the same blog hence it is very suitable for this study.\n",
        "\n",
        "Definition of Variables Daily Time Spent on Site\n",
        "\n",
        "Age\n",
        "\n",
        "Area\n",
        "\n",
        "Income\n",
        "\n",
        "Daily Internet Usage\n",
        "\n",
        "Ad Topic Line\n",
        "\n",
        "City\n",
        "\n",
        "Male\n",
        "\n",
        "Country\n",
        "\n",
        "Timestamp\n",
        "\n",
        "Clicked on Ad\n",
        "### Drafting the Experimental Design\n",
        "1. Define the question, set the metric for success, outline the context, drafting the experimental design, and determining the appropriateness of the data.\n",
        "2. Load the dataset and previewing it.\n",
        "3. Check for missing and duplicated values and deal with them where necessary.\n",
        "4. Check for outliers and other anomalies and deal with them where necessary.\n",
        "5. Perform univariate and bivariate analysis.\n",
        "6. Create a baseline model and assess its accuracy score.\n",
        "7. Challenge the solution.\n",
        "8. Conclude and provide insights on how this project can be improved."
      ]
    },
    {
      "cell_type": "code",
      "metadata": {
        "id": "SH5UdF0vNi09"
      },
      "source": [
        "%load_ext rpy2.ipython"
      ],
      "execution_count": 6,
      "outputs": []
    },
    {
      "cell_type": "code",
      "metadata": {
        "colab": {
          "base_uri": "https://localhost:8080/"
        },
        "id": "KkDBFXbTMw-n",
        "outputId": "6b787e72-2dcd-4e81-c8e5-ff0d21256a8f"
      },
      "source": [
        "%%R\n",
        "# importing and previewing the dataset\n",
        "df<-read.csv('http://bit.ly/IPAdvertisingData')\n",
        "head(df)"
      ],
      "execution_count": 7,
      "outputs": [
        {
          "output_type": "stream",
          "text": [
            "  Daily.Time.Spent.on.Site Age Area.Income Daily.Internet.Usage\n",
            "1                    68.95  35    61833.90               256.09\n",
            "2                    80.23  31    68441.85               193.77\n",
            "3                    69.47  26    59785.94               236.50\n",
            "4                    74.15  29    54806.18               245.89\n",
            "5                    68.37  35    73889.99               225.58\n",
            "6                    59.99  23    59761.56               226.74\n",
            "                          Ad.Topic.Line           City Male    Country\n",
            "1    Cloned 5thgeneration orchestration    Wrightburgh    0    Tunisia\n",
            "2    Monitored national standardization      West Jodi    1      Nauru\n",
            "3      Organic bottom-line service-desk       Davidton    0 San Marino\n",
            "4 Triple-buffered reciprocal time-frame West Terrifurt    1      Italy\n",
            "5         Robust logistical utilization   South Manuel    0    Iceland\n",
            "6       Sharable client-driven software      Jamieberg    1     Norway\n",
            "            Timestamp Clicked.on.Ad\n",
            "1 2016-03-27 00:53:11             0\n",
            "2 2016-04-04 01:39:02             0\n",
            "3 2016-03-13 20:35:42             0\n",
            "4 2016-01-10 02:31:19             0\n",
            "5 2016-06-03 03:36:18             0\n",
            "6 2016-05-19 14:30:17             0\n"
          ],
          "name": "stdout"
        }
      ]
    },
    {
      "cell_type": "code",
      "metadata": {
        "colab": {
          "base_uri": "https://localhost:8080/"
        },
        "id": "O8S2d2j1NrB9",
        "outputId": "6d8e2d71-f318-4fb7-d764-e8fb70a69076"
      },
      "source": [
        "%%R\n",
        "#Data Dimensions\n",
        "paste(\"The dimensions of the data frame are \", paste (dim(df), collapse = ','))\n"
      ],
      "execution_count": 10,
      "outputs": [
        {
          "output_type": "stream",
          "text": [
            "[1] \"The dimensions of the data frame are  1000,10\"\n"
          ],
          "name": "stdout"
        }
      ]
    },
    {
      "cell_type": "code",
      "metadata": {
        "colab": {
          "base_uri": "https://localhost:8080/"
        },
        "id": "4U1Vm8lANwiH",
        "outputId": "f7412af7-1def-4c48-82e7-bdbe35b4a7ee"
      },
      "source": [
        "%%R\n",
        "#Datatypes\n",
        "sapply(df, class)"
      ],
      "execution_count": 11,
      "outputs": [
        {
          "output_type": "stream",
          "text": [
            "Daily.Time.Spent.on.Site                      Age              Area.Income \n",
            "               \"numeric\"                \"integer\"                \"numeric\" \n",
            "    Daily.Internet.Usage            Ad.Topic.Line                     City \n",
            "               \"numeric\"              \"character\"              \"character\" \n",
            "                    Male                  Country                Timestamp \n",
            "               \"integer\"              \"character\"              \"character\" \n",
            "           Clicked.on.Ad \n",
            "               \"integer\" \n"
          ],
          "name": "stdout"
        }
      ]
    },
    {
      "cell_type": "code",
      "metadata": {
        "colab": {
          "base_uri": "https://localhost:8080/"
        },
        "id": "mDingAkhN7uq",
        "outputId": "c5ad8a53-7a6a-487f-a01f-f5c542b5d344"
      },
      "source": [
        "%%R\n",
        "#Summary\n",
        "summary(df)"
      ],
      "execution_count": 12,
      "outputs": [
        {
          "output_type": "stream",
          "text": [
            " Daily.Time.Spent.on.Site      Age         Area.Income    Daily.Internet.Usage\n",
            " Min.   :32.60            Min.   :19.00   Min.   :13996   Min.   :104.8       \n",
            " 1st Qu.:51.36            1st Qu.:29.00   1st Qu.:47032   1st Qu.:138.8       \n",
            " Median :68.22            Median :35.00   Median :57012   Median :183.1       \n",
            " Mean   :65.00            Mean   :36.01   Mean   :55000   Mean   :180.0       \n",
            " 3rd Qu.:78.55            3rd Qu.:42.00   3rd Qu.:65471   3rd Qu.:218.8       \n",
            " Max.   :91.43            Max.   :61.00   Max.   :79485   Max.   :270.0       \n",
            " Ad.Topic.Line          City                Male         Country         \n",
            " Length:1000        Length:1000        Min.   :0.000   Length:1000       \n",
            " Class :character   Class :character   1st Qu.:0.000   Class :character  \n",
            " Mode  :character   Mode  :character   Median :0.000   Mode  :character  \n",
            "                                       Mean   :0.481                     \n",
            "                                       3rd Qu.:1.000                     \n",
            "                                       Max.   :1.000                     \n",
            "  Timestamp         Clicked.on.Ad\n",
            " Length:1000        Min.   :0.0  \n",
            " Class :character   1st Qu.:0.0  \n",
            " Mode  :character   Median :0.5  \n",
            "                    Mean   :0.5  \n",
            "                    3rd Qu.:1.0  \n",
            "                    Max.   :1.0  \n"
          ],
          "name": "stdout"
        }
      ]
    },
    {
      "cell_type": "code",
      "metadata": {
        "colab": {
          "base_uri": "https://localhost:8080/",
          "height": 370
        },
        "id": "2pgWQtRVOFiU",
        "outputId": "1c2fdffe-c5a3-4f14-8d58-6bbb99b71ec3"
      },
      "source": [
        "%%R\n",
        "#Checking for unique characters\n",
        "sapply(df, function(x) length(unique(x))"
      ],
      "execution_count": 20,
      "outputs": [
        {
          "output_type": "error",
          "ename": "RParsingError",
          "evalue": "ignored",
          "traceback": [
            "\u001b[0;31m---------------------------------------------------------------------------\u001b[0m",
            "\u001b[0;31mRParsingError\u001b[0m                             Traceback (most recent call last)",
            "\u001b[0;32m<ipython-input-20-be4dde8ee4d0>\u001b[0m in \u001b[0;36m<module>\u001b[0;34m()\u001b[0m\n\u001b[0;32m----> 1\u001b[0;31m \u001b[0mget_ipython\u001b[0m\u001b[0;34m(\u001b[0m\u001b[0;34m)\u001b[0m\u001b[0;34m.\u001b[0m\u001b[0mrun_cell_magic\u001b[0m\u001b[0;34m(\u001b[0m\u001b[0;34m'R'\u001b[0m\u001b[0;34m,\u001b[0m \u001b[0;34m''\u001b[0m\u001b[0;34m,\u001b[0m \u001b[0;34m'#Checking for unique characters\\nsapply(df, function(x) length(unique(x))'\u001b[0m\u001b[0;34m)\u001b[0m\u001b[0;34m\u001b[0m\u001b[0;34m\u001b[0m\u001b[0m\n\u001b[0m",
            "\u001b[0;32m/usr/local/lib/python3.7/dist-packages/IPython/core/interactiveshell.py\u001b[0m in \u001b[0;36mrun_cell_magic\u001b[0;34m(self, magic_name, line, cell)\u001b[0m\n\u001b[1;32m   2115\u001b[0m             \u001b[0mmagic_arg_s\u001b[0m \u001b[0;34m=\u001b[0m \u001b[0mself\u001b[0m\u001b[0;34m.\u001b[0m\u001b[0mvar_expand\u001b[0m\u001b[0;34m(\u001b[0m\u001b[0mline\u001b[0m\u001b[0;34m,\u001b[0m \u001b[0mstack_depth\u001b[0m\u001b[0;34m)\u001b[0m\u001b[0;34m\u001b[0m\u001b[0;34m\u001b[0m\u001b[0m\n\u001b[1;32m   2116\u001b[0m             \u001b[0;32mwith\u001b[0m \u001b[0mself\u001b[0m\u001b[0;34m.\u001b[0m\u001b[0mbuiltin_trap\u001b[0m\u001b[0;34m:\u001b[0m\u001b[0;34m\u001b[0m\u001b[0;34m\u001b[0m\u001b[0m\n\u001b[0;32m-> 2117\u001b[0;31m                 \u001b[0mresult\u001b[0m \u001b[0;34m=\u001b[0m \u001b[0mfn\u001b[0m\u001b[0;34m(\u001b[0m\u001b[0mmagic_arg_s\u001b[0m\u001b[0;34m,\u001b[0m \u001b[0mcell\u001b[0m\u001b[0;34m)\u001b[0m\u001b[0;34m\u001b[0m\u001b[0;34m\u001b[0m\u001b[0m\n\u001b[0m\u001b[1;32m   2118\u001b[0m             \u001b[0;32mreturn\u001b[0m \u001b[0mresult\u001b[0m\u001b[0;34m\u001b[0m\u001b[0;34m\u001b[0m\u001b[0m\n\u001b[1;32m   2119\u001b[0m \u001b[0;34m\u001b[0m\u001b[0m\n",
            "\u001b[0;32m<decorator-gen-119>\u001b[0m in \u001b[0;36mR\u001b[0;34m(self, line, cell, local_ns)\u001b[0m\n",
            "\u001b[0;32m/usr/local/lib/python3.7/dist-packages/IPython/core/magic.py\u001b[0m in \u001b[0;36m<lambda>\u001b[0;34m(f, *a, **k)\u001b[0m\n\u001b[1;32m    186\u001b[0m     \u001b[0;31m# but it's overkill for just that one bit of state.\u001b[0m\u001b[0;34m\u001b[0m\u001b[0;34m\u001b[0m\u001b[0;34m\u001b[0m\u001b[0m\n\u001b[1;32m    187\u001b[0m     \u001b[0;32mdef\u001b[0m \u001b[0mmagic_deco\u001b[0m\u001b[0;34m(\u001b[0m\u001b[0marg\u001b[0m\u001b[0;34m)\u001b[0m\u001b[0;34m:\u001b[0m\u001b[0;34m\u001b[0m\u001b[0;34m\u001b[0m\u001b[0m\n\u001b[0;32m--> 188\u001b[0;31m         \u001b[0mcall\u001b[0m \u001b[0;34m=\u001b[0m \u001b[0;32mlambda\u001b[0m \u001b[0mf\u001b[0m\u001b[0;34m,\u001b[0m \u001b[0;34m*\u001b[0m\u001b[0ma\u001b[0m\u001b[0;34m,\u001b[0m \u001b[0;34m**\u001b[0m\u001b[0mk\u001b[0m\u001b[0;34m:\u001b[0m \u001b[0mf\u001b[0m\u001b[0;34m(\u001b[0m\u001b[0;34m*\u001b[0m\u001b[0ma\u001b[0m\u001b[0;34m,\u001b[0m \u001b[0;34m**\u001b[0m\u001b[0mk\u001b[0m\u001b[0;34m)\u001b[0m\u001b[0;34m\u001b[0m\u001b[0;34m\u001b[0m\u001b[0m\n\u001b[0m\u001b[1;32m    189\u001b[0m \u001b[0;34m\u001b[0m\u001b[0m\n\u001b[1;32m    190\u001b[0m         \u001b[0;32mif\u001b[0m \u001b[0mcallable\u001b[0m\u001b[0;34m(\u001b[0m\u001b[0marg\u001b[0m\u001b[0;34m)\u001b[0m\u001b[0;34m:\u001b[0m\u001b[0;34m\u001b[0m\u001b[0;34m\u001b[0m\u001b[0m\n",
            "\u001b[0;32m/usr/local/lib/python3.7/dist-packages/rpy2/ipython/rmagic.py\u001b[0m in \u001b[0;36mR\u001b[0;34m(self, line, cell, local_ns)\u001b[0m\n\u001b[1;32m    761\u001b[0m                     \u001b[0mreturn_output\u001b[0m \u001b[0;34m=\u001b[0m \u001b[0;32mFalse\u001b[0m\u001b[0;34m\u001b[0m\u001b[0;34m\u001b[0m\u001b[0m\n\u001b[1;32m    762\u001b[0m             \u001b[0;32melse\u001b[0m\u001b[0;34m:\u001b[0m\u001b[0;34m\u001b[0m\u001b[0;34m\u001b[0m\u001b[0m\n\u001b[0;32m--> 763\u001b[0;31m                 \u001b[0mtext_result\u001b[0m\u001b[0;34m,\u001b[0m \u001b[0mresult\u001b[0m\u001b[0;34m,\u001b[0m \u001b[0mvisible\u001b[0m \u001b[0;34m=\u001b[0m \u001b[0mself\u001b[0m\u001b[0;34m.\u001b[0m\u001b[0meval\u001b[0m\u001b[0;34m(\u001b[0m\u001b[0mcode\u001b[0m\u001b[0;34m)\u001b[0m\u001b[0;34m\u001b[0m\u001b[0;34m\u001b[0m\u001b[0m\n\u001b[0m\u001b[1;32m    764\u001b[0m                 \u001b[0mtext_output\u001b[0m \u001b[0;34m+=\u001b[0m \u001b[0mtext_result\u001b[0m\u001b[0;34m\u001b[0m\u001b[0;34m\u001b[0m\u001b[0m\n\u001b[1;32m    765\u001b[0m                 \u001b[0;32mif\u001b[0m \u001b[0mvisible\u001b[0m\u001b[0;34m:\u001b[0m\u001b[0;34m\u001b[0m\u001b[0;34m\u001b[0m\u001b[0m\n",
            "\u001b[0;32m/usr/local/lib/python3.7/dist-packages/rpy2/ipython/rmagic.py\u001b[0m in \u001b[0;36meval\u001b[0;34m(self, code)\u001b[0m\n\u001b[1;32m    266\u001b[0m             \u001b[0;32mtry\u001b[0m\u001b[0;34m:\u001b[0m\u001b[0;34m\u001b[0m\u001b[0;34m\u001b[0m\u001b[0m\n\u001b[1;32m    267\u001b[0m                 \u001b[0;31m# Need the newline in case the last line in code is a comment.\u001b[0m\u001b[0;34m\u001b[0m\u001b[0;34m\u001b[0m\u001b[0;34m\u001b[0m\u001b[0m\n\u001b[0;32m--> 268\u001b[0;31m                 \u001b[0mvalue\u001b[0m\u001b[0;34m,\u001b[0m \u001b[0mvisible\u001b[0m \u001b[0;34m=\u001b[0m \u001b[0mro\u001b[0m\u001b[0;34m.\u001b[0m\u001b[0mr\u001b[0m\u001b[0;34m(\u001b[0m\u001b[0;34m\"withVisible({%s\\n})\"\u001b[0m \u001b[0;34m%\u001b[0m \u001b[0mcode\u001b[0m\u001b[0;34m)\u001b[0m\u001b[0;34m\u001b[0m\u001b[0;34m\u001b[0m\u001b[0m\n\u001b[0m\u001b[1;32m    269\u001b[0m             \u001b[0;32mexcept\u001b[0m \u001b[0;34m(\u001b[0m\u001b[0mri\u001b[0m\u001b[0;34m.\u001b[0m\u001b[0membedded\u001b[0m\u001b[0;34m.\u001b[0m\u001b[0mRRuntimeError\u001b[0m\u001b[0;34m,\u001b[0m \u001b[0mValueError\u001b[0m\u001b[0;34m)\u001b[0m \u001b[0;32mas\u001b[0m \u001b[0mexception\u001b[0m\u001b[0;34m:\u001b[0m\u001b[0;34m\u001b[0m\u001b[0;34m\u001b[0m\u001b[0m\n\u001b[1;32m    270\u001b[0m                 \u001b[0;31m# Otherwise next return seems to have copy of error.\u001b[0m\u001b[0;34m\u001b[0m\u001b[0;34m\u001b[0m\u001b[0;34m\u001b[0m\u001b[0m\n",
            "\u001b[0;32m/usr/local/lib/python3.7/dist-packages/rpy2/robjects/__init__.py\u001b[0m in \u001b[0;36m__call__\u001b[0;34m(self, string)\u001b[0m\n\u001b[1;32m    435\u001b[0m \u001b[0;34m\u001b[0m\u001b[0m\n\u001b[1;32m    436\u001b[0m     \u001b[0;32mdef\u001b[0m \u001b[0m__call__\u001b[0m\u001b[0;34m(\u001b[0m\u001b[0mself\u001b[0m\u001b[0;34m,\u001b[0m \u001b[0mstring\u001b[0m\u001b[0;34m)\u001b[0m\u001b[0;34m:\u001b[0m\u001b[0;34m\u001b[0m\u001b[0;34m\u001b[0m\u001b[0m\n\u001b[0;32m--> 437\u001b[0;31m         \u001b[0mp\u001b[0m \u001b[0;34m=\u001b[0m \u001b[0mrinterface\u001b[0m\u001b[0;34m.\u001b[0m\u001b[0mparse\u001b[0m\u001b[0;34m(\u001b[0m\u001b[0mstring\u001b[0m\u001b[0;34m)\u001b[0m\u001b[0;34m\u001b[0m\u001b[0;34m\u001b[0m\u001b[0m\n\u001b[0m\u001b[1;32m    438\u001b[0m         \u001b[0mres\u001b[0m \u001b[0;34m=\u001b[0m \u001b[0mself\u001b[0m\u001b[0;34m.\u001b[0m\u001b[0meval\u001b[0m\u001b[0;34m(\u001b[0m\u001b[0mp\u001b[0m\u001b[0;34m)\u001b[0m\u001b[0;34m\u001b[0m\u001b[0;34m\u001b[0m\u001b[0m\n\u001b[1;32m    439\u001b[0m         \u001b[0;32mreturn\u001b[0m \u001b[0mconversion\u001b[0m\u001b[0;34m.\u001b[0m\u001b[0mrpy2py\u001b[0m\u001b[0;34m(\u001b[0m\u001b[0mres\u001b[0m\u001b[0;34m)\u001b[0m\u001b[0;34m\u001b[0m\u001b[0;34m\u001b[0m\u001b[0m\n",
            "\u001b[0;32m/usr/local/lib/python3.7/dist-packages/rpy2/rinterface_lib/conversion.py\u001b[0m in \u001b[0;36m_\u001b[0;34m(*args, **kwargs)\u001b[0m\n\u001b[1;32m     43\u001b[0m \u001b[0;32mdef\u001b[0m \u001b[0m_cdata_res_to_rinterface\u001b[0m\u001b[0;34m(\u001b[0m\u001b[0mfunction\u001b[0m\u001b[0;34m)\u001b[0m\u001b[0;34m:\u001b[0m\u001b[0;34m\u001b[0m\u001b[0;34m\u001b[0m\u001b[0m\n\u001b[1;32m     44\u001b[0m     \u001b[0;32mdef\u001b[0m \u001b[0m_\u001b[0m\u001b[0;34m(\u001b[0m\u001b[0;34m*\u001b[0m\u001b[0margs\u001b[0m\u001b[0;34m,\u001b[0m \u001b[0;34m**\u001b[0m\u001b[0mkwargs\u001b[0m\u001b[0;34m)\u001b[0m\u001b[0;34m:\u001b[0m\u001b[0;34m\u001b[0m\u001b[0;34m\u001b[0m\u001b[0m\n\u001b[0;32m---> 45\u001b[0;31m         \u001b[0mcdata\u001b[0m \u001b[0;34m=\u001b[0m \u001b[0mfunction\u001b[0m\u001b[0;34m(\u001b[0m\u001b[0;34m*\u001b[0m\u001b[0margs\u001b[0m\u001b[0;34m,\u001b[0m \u001b[0;34m**\u001b[0m\u001b[0mkwargs\u001b[0m\u001b[0;34m)\u001b[0m\u001b[0;34m\u001b[0m\u001b[0;34m\u001b[0m\u001b[0m\n\u001b[0m\u001b[1;32m     46\u001b[0m         \u001b[0;31m# TODO: test cdata is of the expected CType\u001b[0m\u001b[0;34m\u001b[0m\u001b[0;34m\u001b[0m\u001b[0;34m\u001b[0m\u001b[0m\n\u001b[1;32m     47\u001b[0m         \u001b[0;32mreturn\u001b[0m \u001b[0m_cdata_to_rinterface\u001b[0m\u001b[0;34m(\u001b[0m\u001b[0mcdata\u001b[0m\u001b[0;34m)\u001b[0m\u001b[0;34m\u001b[0m\u001b[0;34m\u001b[0m\u001b[0m\n",
            "\u001b[0;32m/usr/local/lib/python3.7/dist-packages/rpy2/rinterface.py\u001b[0m in \u001b[0;36mparse\u001b[0;34m(text, num)\u001b[0m\n\u001b[1;32m    101\u001b[0m     \u001b[0mrobj\u001b[0m \u001b[0;34m=\u001b[0m \u001b[0mStrSexpVector\u001b[0m\u001b[0;34m(\u001b[0m\u001b[0;34m[\u001b[0m\u001b[0mtext\u001b[0m\u001b[0;34m]\u001b[0m\u001b[0;34m)\u001b[0m\u001b[0;34m\u001b[0m\u001b[0;34m\u001b[0m\u001b[0m\n\u001b[1;32m    102\u001b[0m     \u001b[0;32mwith\u001b[0m \u001b[0mmemorymanagement\u001b[0m\u001b[0;34m.\u001b[0m\u001b[0mrmemory\u001b[0m\u001b[0;34m(\u001b[0m\u001b[0;34m)\u001b[0m \u001b[0;32mas\u001b[0m \u001b[0mrmemory\u001b[0m\u001b[0;34m:\u001b[0m\u001b[0;34m\u001b[0m\u001b[0;34m\u001b[0m\u001b[0m\n\u001b[0;32m--> 103\u001b[0;31m         \u001b[0mres\u001b[0m \u001b[0;34m=\u001b[0m \u001b[0m_rinterface\u001b[0m\u001b[0;34m.\u001b[0m\u001b[0m_parse\u001b[0m\u001b[0;34m(\u001b[0m\u001b[0mrobj\u001b[0m\u001b[0;34m.\u001b[0m\u001b[0m__sexp__\u001b[0m\u001b[0;34m.\u001b[0m\u001b[0m_cdata\u001b[0m\u001b[0;34m,\u001b[0m \u001b[0mnum\u001b[0m\u001b[0;34m,\u001b[0m \u001b[0mrmemory\u001b[0m\u001b[0;34m)\u001b[0m\u001b[0;34m\u001b[0m\u001b[0;34m\u001b[0m\u001b[0m\n\u001b[0m\u001b[1;32m    104\u001b[0m     \u001b[0;32mreturn\u001b[0m \u001b[0mres\u001b[0m\u001b[0;34m\u001b[0m\u001b[0;34m\u001b[0m\u001b[0m\n\u001b[1;32m    105\u001b[0m \u001b[0;34m\u001b[0m\u001b[0m\n",
            "\u001b[0;32m/usr/local/lib/python3.7/dist-packages/rpy2/rinterface_lib/_rinterface_capi.py\u001b[0m in \u001b[0;36m_parse\u001b[0;34m(cdata, num, rmemory)\u001b[0m\n\u001b[1;32m    651\u001b[0m     \u001b[0;32mif\u001b[0m \u001b[0mstatus\u001b[0m\u001b[0;34m[\u001b[0m\u001b[0;36m0\u001b[0m\u001b[0;34m]\u001b[0m \u001b[0;34m!=\u001b[0m \u001b[0mopenrlib\u001b[0m\u001b[0;34m.\u001b[0m\u001b[0mrlib\u001b[0m\u001b[0;34m.\u001b[0m\u001b[0mPARSE_OK\u001b[0m\u001b[0;34m:\u001b[0m\u001b[0;34m\u001b[0m\u001b[0;34m\u001b[0m\u001b[0m\n\u001b[1;32m    652\u001b[0m         raise RParsingError('Parsing status not OK',\n\u001b[0;32m--> 653\u001b[0;31m                             status=PARSING_STATUS(status[0]))\n\u001b[0m\u001b[1;32m    654\u001b[0m     \u001b[0;32mreturn\u001b[0m \u001b[0mres\u001b[0m\u001b[0;34m\u001b[0m\u001b[0;34m\u001b[0m\u001b[0m\n",
            "\u001b[0;31mRParsingError\u001b[0m: Parsing status not OK - PARSING_STATUS.PARSE_ERROR"
          ]
        }
      ]
    },
    {
      "cell_type": "code",
      "metadata": {
        "colab": {
          "base_uri": "https://localhost:8080/"
        },
        "id": "97tZMuTBOAwU",
        "outputId": "b762e532-5d0f-486e-b919-e5723b10048f"
      },
      "source": [
        "%%R\n",
        "# checking for duplicates\n",
        "anyDuplicated(df)"
      ],
      "execution_count": 18,
      "outputs": [
        {
          "output_type": "stream",
          "text": [
            "[1] 0\n"
          ],
          "name": "stdout"
        }
      ]
    },
    {
      "cell_type": "code",
      "metadata": {
        "colab": {
          "base_uri": "https://localhost:8080/"
        },
        "id": "AR9-xNNIOYou",
        "outputId": "667e5b68-0fc1-40e6-e066-76204daf13db"
      },
      "source": [
        "%%R\n",
        "# looking for missing values\n",
        "colSums(is.na(df))"
      ],
      "execution_count": 21,
      "outputs": [
        {
          "output_type": "stream",
          "text": [
            "Daily.Time.Spent.on.Site                      Age              Area.Income \n",
            "                       0                        0                        0 \n",
            "    Daily.Internet.Usage            Ad.Topic.Line                     City \n",
            "                       0                        0                        0 \n",
            "                    Male                  Country                Timestamp \n",
            "                       0                        0                        0 \n",
            "           Clicked.on.Ad \n",
            "                       0 \n"
          ],
          "name": "stdout"
        }
      ]
    },
    {
      "cell_type": "code",
      "metadata": {
        "colab": {
          "base_uri": "https://localhost:8080/"
        },
        "id": "0VH3oJJwOdW1",
        "outputId": "0ba4f16d-016b-40f8-d37a-bab37fd879fa"
      },
      "source": [
        "%%R\n",
        "#Checking for outliers\n",
        "#First we select numeric columns excluding male and clicked.on.ad since they are binary column\n",
        "\n",
        "df1 <- subset(df, select = -c(Ad.Topic.Line,City,\tMale,\tCountry,\tTimestamp,\tClicked.on.Ad))\n",
        "head(df1)"
      ],
      "execution_count": 22,
      "outputs": [
        {
          "output_type": "stream",
          "text": [
            "  Daily.Time.Spent.on.Site Age Area.Income Daily.Internet.Usage\n",
            "1                    68.95  35    61833.90               256.09\n",
            "2                    80.23  31    68441.85               193.77\n",
            "3                    69.47  26    59785.94               236.50\n",
            "4                    74.15  29    54806.18               245.89\n",
            "5                    68.37  35    73889.99               225.58\n",
            "6                    59.99  23    59761.56               226.74\n"
          ],
          "name": "stdout"
        }
      ]
    },
    {
      "cell_type": "code",
      "metadata": {
        "colab": {
          "base_uri": "https://localhost:8080/",
          "height": 496
        },
        "id": "Au49h9hzOj3m",
        "outputId": "1441e341-0451-41a0-d62c-c096843827d1"
      },
      "source": [
        "%%R\n",
        "#Plotting boxplots to check for outliers\n",
        "boxplot(df1\n",
        "        )"
      ],
      "execution_count": 23,
      "outputs": [
        {
          "output_type": "display_data",
          "data": {
            "image/png": "[encoded data removed]"
          },
          "metadata": {}
        }
      ]
    },
    {
      "cell_type": "code",
      "metadata": {
        "colab": {
          "base_uri": "https://localhost:8080/"
        },
        "id": "WnoHi44dOnYt",
        "outputId": "750fcb2f-7949-4b5d-9e05-0e59ce3b156b"
      },
      "source": [
        "%%R\n",
        "boxplot.stats(df1$Area.Income)$out"
      ],
      "execution_count": 24,
      "outputs": [
        {
          "output_type": "stream",
          "text": [
            "[1] 17709.98 18819.34 15598.29 15879.10 14548.06 13996.50 14775.50 18368.57\n"
          ],
          "name": "stdout"
        }
      ]
    },
    {
      "cell_type": "markdown",
      "metadata": {
        "id": "nNSf1EPQOqNy"
      },
      "source": [
        "We won't remove the above figures because it concerns income and people earn different amounts of money.\n"
      ]
    },
    {
      "cell_type": "code",
      "metadata": {
        "colab": {
          "base_uri": "https://localhost:8080/"
        },
        "id": "IeRtxN2LOpyO",
        "outputId": "a45e36ec-db9b-4643-95cf-b25e4c741367"
      },
      "source": [
        "%%R\n",
        "#Change datattypes\n",
        "df$Male <- as.factor(df$Male)\n",
        "df$Clicked.on.Ad <- as.factor(df$Clicked.on.Ad)\n",
        "#Checking datatypes\n",
        "sapply(df, class)"
      ],
      "execution_count": 25,
      "outputs": [
        {
          "output_type": "stream",
          "text": [
            "Daily.Time.Spent.on.Site                      Age              Area.Income \n",
            "               \"numeric\"                \"integer\"                \"numeric\" \n",
            "    Daily.Internet.Usage            Ad.Topic.Line                     City \n",
            "               \"numeric\"              \"character\"              \"character\" \n",
            "                    Male                  Country                Timestamp \n",
            "                \"factor\"              \"character\"              \"character\" \n",
            "           Clicked.on.Ad \n",
            "                \"factor\" \n"
          ],
          "name": "stdout"
        }
      ]
    },
    {
      "cell_type": "code",
      "metadata": {
        "colab": {
          "base_uri": "https://localhost:8080/"
        },
        "id": "ek4HvLPTOx_k",
        "outputId": "5a80e8e2-1f47-42f4-a112-db488f7e4607"
      },
      "source": [
        "%%R\n",
        "# split timestamp column into year, month, day, and hour\n",
        "# NB: minute and second are irrelevant to our analysis\n",
        "df$year <- format(as.POSIXct(df$Timestamp, format=\"%Y-%m-%d %H:%M:%S\"), \"%Y\")\n",
        "df$month <- format(as.POSIXct(df$Timestamp, format=\"%Y-%m-%d %H:%M:%S\"), \"%m\")\n",
        "df$day <- format(as.POSIXct(df$Timestamp, format=\"%Y-%m-%d %H:%M:%S\"), \"%d\")\n",
        "df$hour <- format(as.POSIXct(df$Timestamp, format=\"%Y-%m-%d %H:%M:%S\"), \"%H\")\n",
        "head(df)"
      ],
      "execution_count": 26,
      "outputs": [
        {
          "output_type": "stream",
          "text": [
            "  Daily.Time.Spent.on.Site Age Area.Income Daily.Internet.Usage\n",
            "1                    68.95  35    61833.90               256.09\n",
            "2                    80.23  31    68441.85               193.77\n",
            "3                    69.47  26    59785.94               236.50\n",
            "4                    74.15  29    54806.18               245.89\n",
            "5                    68.37  35    73889.99               225.58\n",
            "6                    59.99  23    59761.56               226.74\n",
            "                          Ad.Topic.Line           City Male    Country\n",
            "1    Cloned 5thgeneration orchestration    Wrightburgh    0    Tunisia\n",
            "2    Monitored national standardization      West Jodi    1      Nauru\n",
            "3      Organic bottom-line service-desk       Davidton    0 San Marino\n",
            "4 Triple-buffered reciprocal time-frame West Terrifurt    1      Italy\n",
            "5         Robust logistical utilization   South Manuel    0    Iceland\n",
            "6       Sharable client-driven software      Jamieberg    1     Norway\n",
            "            Timestamp Clicked.on.Ad year month day hour\n",
            "1 2016-03-27 00:53:11             0 2016    03  27   00\n",
            "2 2016-04-04 01:39:02             0 2016    04  04   01\n",
            "3 2016-03-13 20:35:42             0 2016    03  13   20\n",
            "4 2016-01-10 02:31:19             0 2016    01  10   02\n",
            "5 2016-06-03 03:36:18             0 2016    06  03   03\n",
            "6 2016-05-19 14:30:17             0 2016    05  19   14\n"
          ],
          "name": "stdout"
        }
      ]
    },
    {
      "cell_type": "code",
      "metadata": {
        "colab": {
          "base_uri": "https://localhost:8080/"
        },
        "id": "I3DadMPsO1oI",
        "outputId": "622d9be4-48a2-4463-9643-abf7464bcab6"
      },
      "source": [
        "%%R\n",
        "#Dropping the column Timestamp and Ad.Topic.Line\n",
        "df_clean = subset(df, select = -c(Timestamp,Ad.Topic.Line))\n",
        "head(df_clean)"
      ],
      "execution_count": 27,
      "outputs": [
        {
          "output_type": "stream",
          "text": [
            "  Daily.Time.Spent.on.Site Age Area.Income Daily.Internet.Usage           City\n",
            "1                    68.95  35    61833.90               256.09    Wrightburgh\n",
            "2                    80.23  31    68441.85               193.77      West Jodi\n",
            "3                    69.47  26    59785.94               236.50       Davidton\n",
            "4                    74.15  29    54806.18               245.89 West Terrifurt\n",
            "5                    68.37  35    73889.99               225.58   South Manuel\n",
            "6                    59.99  23    59761.56               226.74      Jamieberg\n",
            "  Male    Country Clicked.on.Ad year month day hour\n",
            "1    0    Tunisia             0 2016    03  27   00\n",
            "2    1      Nauru             0 2016    04  04   01\n",
            "3    0 San Marino             0 2016    03  13   20\n",
            "4    1      Italy             0 2016    01  10   02\n",
            "5    0    Iceland             0 2016    06  03   03\n",
            "6    1     Norway             0 2016    05  19   14\n"
          ],
          "name": "stdout"
        }
      ]
    },
    {
      "cell_type": "code",
      "metadata": {
        "colab": {
          "base_uri": "https://localhost:8080/"
        },
        "id": "d67e37YrO454",
        "outputId": "3f276259-49ac-4878-a651-912ae4fe2863"
      },
      "source": [
        "%%R\n",
        "#Datatypes\n",
        "sapply(df_clean, class)"
      ],
      "execution_count": 28,
      "outputs": [
        {
          "output_type": "stream",
          "text": [
            "Daily.Time.Spent.on.Site                      Age              Area.Income \n",
            "               \"numeric\"                \"integer\"                \"numeric\" \n",
            "    Daily.Internet.Usage                     City                     Male \n",
            "               \"numeric\"              \"character\"                 \"factor\" \n",
            "                 Country            Clicked.on.Ad                     year \n",
            "             \"character\"                 \"factor\"              \"character\" \n",
            "                   month                      day                     hour \n",
            "             \"character\"              \"character\"              \"character\" \n"
          ],
          "name": "stdout"
        }
      ]
    },
    {
      "cell_type": "code",
      "metadata": {
        "id": "9x5hTnHmO9O7"
      },
      "source": [
        "%%R\n",
        "# set the new columns to be of data type Factor\n",
        "df_clean$year <- as.factor(df_clean$year)\n",
        "df_clean$month <- as.factor(df_clean$month)\n",
        "df_clean$day <- as.factor(df_clean$day)\n",
        "df_clean$hour <- as.factor(df_clean$hour)"
      ],
      "execution_count": 29,
      "outputs": []
    },
    {
      "cell_type": "code",
      "metadata": {
        "colab": {
          "base_uri": "https://localhost:8080/"
        },
        "id": "tdnCcR9_PBlg",
        "outputId": "a667c204-15a0-42d1-e4fa-aa8467915edf"
      },
      "source": [
        "%%R\n",
        "#Datatypes\n",
        "sapply(df_clean, class)"
      ],
      "execution_count": 30,
      "outputs": [
        {
          "output_type": "stream",
          "text": [
            "Daily.Time.Spent.on.Site                      Age              Area.Income \n",
            "               \"numeric\"                \"integer\"                \"numeric\" \n",
            "    Daily.Internet.Usage                     City                     Male \n",
            "               \"numeric\"              \"character\"                 \"factor\" \n",
            "                 Country            Clicked.on.Ad                     year \n",
            "             \"character\"                 \"factor\"                 \"factor\" \n",
            "                   month                      day                     hour \n",
            "                \"factor\"                 \"factor\"                 \"factor\" \n"
          ],
          "name": "stdout"
        }
      ]
    },
    {
      "cell_type": "markdown",
      "metadata": {
        "id": "tWO7DMsQPD4M"
      },
      "source": [
        "# Exploratory Data Analysis"
      ]
    },
    {
      "cell_type": "markdown",
      "metadata": {
        "id": "zhBvsoldPJ3p"
      },
      "source": [
        "## Univariate Data Analysis"
      ]
    },
    {
      "cell_type": "code",
      "metadata": {
        "colab": {
          "base_uri": "https://localhost:8080/"
        },
        "id": "b9cXJ47APJa-",
        "outputId": "81d3db96-4868-4352-d32c-230fb14e1e79"
      },
      "source": [
        "%%R\n",
        "colnames(df_clean)"
      ],
      "execution_count": 31,
      "outputs": [
        {
          "output_type": "stream",
          "text": [
            " [1] \"Daily.Time.Spent.on.Site\" \"Age\"                     \n",
            " [3] \"Area.Income\"              \"Daily.Internet.Usage\"    \n",
            " [5] \"City\"                     \"Male\"                    \n",
            " [7] \"Country\"                  \"Clicked.on.Ad\"           \n",
            " [9] \"year\"                     \"month\"                   \n",
            "[11] \"day\"                      \"hour\"                    \n"
          ],
          "name": "stdout"
        }
      ]
    },
    {
      "cell_type": "code",
      "metadata": {
        "colab": {
          "base_uri": "https://localhost:8080/"
        },
        "id": "LIRfOPx9PRgS",
        "outputId": "edfc12c6-a00e-4470-ccc6-1a093f83caac"
      },
      "source": [
        "%%R\n",
        "#Selecting the numeric columns\n",
        "num <- subset(df_clean, select = -c(City,\tMale,\tCountry,\tClicked.on.Ad, month,day,hour,year))\n",
        "#Getting the measures of central tendency \n",
        "summary(num)"
      ],
      "execution_count": 32,
      "outputs": [
        {
          "output_type": "stream",
          "text": [
            " Daily.Time.Spent.on.Site      Age         Area.Income    Daily.Internet.Usage\n",
            " Min.   :32.60            Min.   :19.00   Min.   :13996   Min.   :104.8       \n",
            " 1st Qu.:51.36            1st Qu.:29.00   1st Qu.:47032   1st Qu.:138.8       \n",
            " Median :68.22            Median :35.00   Median :57012   Median :183.1       \n",
            " Mean   :65.00            Mean   :36.01   Mean   :55000   Mean   :180.0       \n",
            " 3rd Qu.:78.55            3rd Qu.:42.00   3rd Qu.:65471   3rd Qu.:218.8       \n",
            " Max.   :91.43            Max.   :61.00   Max.   :79485   Max.   :270.0       \n"
          ],
          "name": "stdout"
        }
      ]
    },
    {
      "cell_type": "markdown",
      "metadata": {
        "id": "V8b4Gz7aPW1R"
      },
      "source": [
        "### Variance and Standard deviation"
      ]
    },
    {
      "cell_type": "code",
      "metadata": {
        "colab": {
          "base_uri": "https://localhost:8080/"
        },
        "id": "slTbeTKoPU4g",
        "outputId": "72b60260-5ccb-44c5-9608-ea95b13619a0"
      },
      "source": [
        "%%R\n",
        "\n",
        "print(var(df_clean$Age))\n",
        "sd(df_clean$Age)"
      ],
      "execution_count": 36,
      "outputs": [
        {
          "output_type": "stream",
          "text": [
            "[1] 77.18611\n",
            "[1] 8.785562\n"
          ],
          "name": "stdout"
        }
      ]
    },
    {
      "cell_type": "code",
      "metadata": {
        "colab": {
          "base_uri": "https://localhost:8080/"
        },
        "id": "kJgnsk1kPdys",
        "outputId": "a7f47b84-52c5-4698-e5d6-8c776ce97fb2"
      },
      "source": [
        "%%R\n",
        "print(var(df_clean$Area.Income))\n",
        "sd(df_clean$Area.Income)"
      ],
      "execution_count": 37,
      "outputs": [
        {
          "output_type": "stream",
          "text": [
            "[1] 179952406\n",
            "[1] 13414.63\n"
          ],
          "name": "stdout"
        }
      ]
    },
    {
      "cell_type": "code",
      "metadata": {
        "colab": {
          "base_uri": "https://localhost:8080/"
        },
        "id": "4Gn3nSNfPlBW",
        "outputId": "fe839d0b-d8cf-4783-95b9-ce726d79654b"
      },
      "source": [
        "%%R\n",
        "print(var(df_clean$Daily.Internet.Usage))\n",
        "sd(df_clean$Daily.Internet.Usage)"
      ],
      "execution_count": 38,
      "outputs": [
        {
          "output_type": "stream",
          "text": [
            "[1] 1927.415\n",
            "[1] 43.90234\n"
          ],
          "name": "stdout"
        }
      ]
    },
    {
      "cell_type": "code",
      "metadata": {
        "colab": {
          "base_uri": "https://localhost:8080/"
        },
        "id": "ujwLMPlRPqgI",
        "outputId": "13d0eed2-ed41-4f21-f2db-ee7aa9f173f1"
      },
      "source": [
        "%%R\n",
        "print(var(df_clean$Daily.Time.Spent.on.Site))\n",
        "sd(df_clean$Daily.Time.Spent.on.Site)"
      ],
      "execution_count": 44,
      "outputs": [
        {
          "output_type": "stream",
          "text": [
            "[1] 251.3371\n",
            "[1] 15.85361\n"
          ],
          "name": "stdout"
        }
      ]
    },
    {
      "cell_type": "markdown",
      "metadata": {
        "id": "WpuHkbetP--6"
      },
      "source": [
        "#### Conclusions\n",
        "\n",
        "1. The minimum amount of time spent on the blog is 32.60 and maximum is 91.43 with a mean at 65 and median at 68\n",
        "2. The mean age of people visiting the site is 36, max age is 61 and min age is 19 which makes sense since the range between 61 and 19 are the people most active online.\n",
        "3.From data, the maximum income of individuals is 79485 and a min income of 13996\n",
        "4.The mean daily internet usage on the website is 180 and a median level at 183.1"
      ]
    },
    {
      "cell_type": "code",
      "metadata": {
        "colab": {
          "base_uri": "https://localhost:8080/"
        },
        "id": "kXZ3vlRvQBhV",
        "outputId": "a261cfeb-b4bb-47b1-fc8f-2d1a526c8cfe"
      },
      "source": [
        "%%R\n",
        "install.packages(\"moments\")\n",
        "library(moments)"
      ],
      "execution_count": 45,
      "outputs": [
        {
          "output_type": "stream",
          "text": [
            "R[write to console]: Installing package into ‘/usr/local/lib/R/site-library’\n",
            "(as ‘lib’ is unspecified)\n",
            "\n",
            "R[write to console]: trying URL 'https://cran.rstudio.com/src/contrib/moments_0.14.tar.gz'\n",
            "\n",
            "R[write to console]: Content type 'application/x-gzip'\n",
            "R[write to console]:  length 7650 bytes\n",
            "\n",
            "R[write to console]: =\n",
            "R[write to console]: =\n",
            "R[write to console]: =\n",
            "R[write to console]: =\n",
            "R[write to console]: =\n",
            "R[write to console]: =\n",
            "R[write to console]: =\n",
            "R[write to console]: =\n",
            "R[write to console]: =\n",
            "R[write to console]: =\n",
            "R[write to console]: =\n",
            "R[write to console]: =\n",
            "R[write to console]: =\n",
            "R[write to console]: =\n",
            "R[write to console]: =\n",
            "R[write to console]: =\n",
            "R[write to console]: =\n",
            "R[write to console]: =\n",
            "R[write to console]: =\n",
            "R[write to console]: =\n",
            "R[write to console]: =\n",
            "R[write to console]: =\n",
            "R[write to console]: =\n",
            "R[write to console]: =\n",
            "R[write to console]: =\n",
            "R[write to console]: =\n",
            "R[write to console]: =\n",
            "R[write to console]: =\n",
            "R[write to console]: =\n",
            "R[write to console]: =\n",
            "R[write to console]: =\n",
            "R[write to console]: =\n",
            "R[write to console]: =\n",
            "R[write to console]: =\n",
            "R[write to console]: =\n",
            "R[write to console]: =\n",
            "R[write to console]: =\n",
            "R[write to console]: =\n",
            "R[write to console]: =\n",
            "R[write to console]: =\n",
            "R[write to console]: =\n",
            "R[write to console]: =\n",
            "R[write to console]: =\n",
            "R[write to console]: =\n",
            "R[write to console]: =\n",
            "R[write to console]: =\n",
            "R[write to console]: =\n",
            "R[write to console]: =\n",
            "R[write to console]: =\n",
            "R[write to console]: =\n",
            "R[write to console]: \n",
            "\n",
            "R[write to console]: downloaded 7650 bytes\n",
            "\n",
            "\n",
            "R[write to console]: \n",
            "\n",
            "R[write to console]: \n",
            "R[write to console]: The downloaded source packages are in\n",
            "\t‘/tmp/RtmpDxJd8e/downloaded_packages’\n",
            "R[write to console]: \n",
            "R[write to console]: \n",
            "\n"
          ],
          "name": "stderr"
        }
      ]
    },
    {
      "cell_type": "code",
      "metadata": {
        "colab": {
          "base_uri": "https://localhost:8080/"
        },
        "id": "j0rLPj4MQHnD",
        "outputId": "32ced785-3cfc-4bb5-b40a-141e279e8406"
      },
      "source": [
        "%%R\n",
        "#Checking for skewness\n",
        "print(paste(\"Daily Time_Spent_Skewness: \", paste (skewness(df_clean$Daily.Time.Spent.on.Site), collapse = ','))) \n",
        "print(paste(\"Income_Skewness: \", paste (skewness(df_clean$Area.Income), collapse = ',')) )\n",
        "print(paste(\"Age_Skewness: \", paste (skewness(df_clean$Age), collapse = ',')) )\n",
        "paste(\"Daily_Internet_Usage_Skewness: \", paste (skewness(df_clean$Daily.Internet.Usage), collapse = ','))"
      ],
      "execution_count": 47,
      "outputs": [
        {
          "output_type": "stream",
          "text": [
            "[1] \"Daily Time_Spent_Skewness:  -0.371202614867441\"\n",
            "[1] \"Income_Skewness:  -0.649396701694076\"\n",
            "[1] \"Age_Skewness:  0.478422676206608\"\n",
            "[1] \"Daily_Internet_Usage_Skewness:  -0.0334870316434409\"\n"
          ],
          "name": "stdout"
        }
      ]
    },
    {
      "cell_type": "code",
      "metadata": {
        "colab": {
          "base_uri": "https://localhost:8080/"
        },
        "id": "ybeL1tkFQVR6",
        "outputId": "d55a87bd-6ee8-4929-e86f-d867369c0cbb"
      },
      "source": [
        "%%R\n",
        "#Checking for kurtosis\n",
        "print(paste(\"Daily Time_Spent_Kurtosis: \", paste (kurtosis(df_clean$Daily.Time.Spent.on.Site), collapse = ',')) )\n",
        "print(paste(\"Income_Kurtosis: \", paste (kurtosis(df_clean$Area.Income), collapse = ',')) )\n",
        "print(paste(\"Age_Kurtosis: \", paste (kurtosis(df_clean$Age), collapse = ',')) )\n",
        "paste(\"Daily_Internet_Usage_Kurtosis: \", paste (kurtosis(df_clean$Daily.Internet.Usage), collapse = ','))\n"
      ],
      "execution_count": 48,
      "outputs": [
        {
          "output_type": "stream",
          "text": [
            "[1] \"Daily Time_Spent_Kurtosis:  1.90394215401081\"\n",
            "[1] \"Income_Kurtosis:  2.89469406161926\"\n",
            "[1] \"Age_Kurtosis:  2.59548176807726\"\n",
            "[1] \"Daily_Internet_Usage_Kurtosis:  1.72770118094819\"\n"
          ],
          "name": "stdout"
        }
      ]
    },
    {
      "cell_type": "markdown",
      "metadata": {
        "id": "Dsc6iyhgQfDw"
      },
      "source": [
        "Histograms"
      ]
    },
    {
      "cell_type": "code",
      "metadata": {
        "colab": {
          "base_uri": "https://localhost:8080/",
          "height": 496
        },
        "id": "xSv4EkR6QeCX",
        "outputId": "9497c646-d18b-4efd-bfbe-7aee7aef1b6b"
      },
      "source": [
        "%%R\n",
        "hist(df_clean$Age)"
      ],
      "execution_count": 49,
      "outputs": [
        {
          "output_type": "display_data",
          "data": {
            "image/png": "[encoded data removed]"
          },
          "metadata": {}
        }
      ]
    },
    {
      "cell_type": "code",
      "metadata": {
        "colab": {
          "base_uri": "https://localhost:8080/",
          "height": 496
        },
        "id": "sJZkS7-ZQj9g",
        "outputId": "252a0c30-5113-46df-a26e-cc5a356634e7"
      },
      "source": [
        "%%R\n",
        "hist(df_clean$Area.Income)"
      ],
      "execution_count": 50,
      "outputs": [
        {
          "output_type": "display_data",
          "data": {
            "image/png": "[encoded data removed]"
          },
          "metadata": {}
        }
      ]
    },
    {
      "cell_type": "code",
      "metadata": {
        "colab": {
          "base_uri": "https://localhost:8080/",
          "height": 496
        },
        "id": "IRc-JA0iQmkb",
        "outputId": "69b4b2ea-cccd-4da3-be67-b17a10223316"
      },
      "source": [
        "%%R\n",
        "hist(df_clean$Daily.Time.Spent.on.Site)\n",
        "\n"
      ],
      "execution_count": 51,
      "outputs": [
        {
          "output_type": "display_data",
          "data": {
            "image/png": "[encoded data removed]"
          },
          "metadata": {}
        }
      ]
    },
    {
      "cell_type": "code",
      "metadata": {
        "colab": {
          "base_uri": "https://localhost:8080/",
          "height": 496
        },
        "id": "YRZD9bYVQsgQ",
        "outputId": "8bf52138-6c5d-46e2-95f7-1c427280bce6"
      },
      "source": [
        "%%R\n",
        "hist(df_clean$Daily.Internet.Usage)"
      ],
      "execution_count": 52,
      "outputs": [
        {
          "output_type": "display_data",
          "data": {
            "image/png": "[encoded data removed]"
          },
          "metadata": {}
        }
      ]
    },
    {
      "cell_type": "markdown",
      "metadata": {
        "id": "8_hz4NKYQvtr"
      },
      "source": [
        "Observation\n",
        "-Age: Most people who visit the blog are between 25 and 40 years, data is skewed to the right of the mean. Graph doesn't show a sharp peak. The skewness value implies that the distribution is almost fairly symmetrical, so our initial assumption based on just looking at the visualization of the distribution is slightly wrong.\n",
        "\n",
        "-Income: Data on income is mostly skewed to the right of the 55,00 mean. A kurtosis value of 2.89 indicates that the distribution is platykurtic although it is getting very close to being mesokurtic.The distribution is negatively skewed.\n",
        "\n",
        "-Daily internet usage: The distribution is platykurtic. The distribution appears to be relatively uniform and bimodal.\n",
        "\n",
        "-Time spent on site: There are lots of variations on how much time people spend on the site. A good number does spend between 65 and 85 time on the site.\n"
      ]
    },
    {
      "cell_type": "code",
      "metadata": {
        "colab": {
          "base_uri": "https://localhost:8080/"
        },
        "id": "M3egpKZ5Qyr1",
        "outputId": "e2ff1444-03ac-4549-fb80-a6f985e507b0"
      },
      "source": [
        "%%R\n",
        "install.packages(\"plyr\")\n",
        "library(plyr)"
      ],
      "execution_count": 53,
      "outputs": [
        {
          "output_type": "stream",
          "text": [
            "R[write to console]: Installing package into ‘/usr/local/lib/R/site-library’\n",
            "(as ‘lib’ is unspecified)\n",
            "\n",
            "R[write to console]: trying URL 'https://cran.rstudio.com/src/contrib/plyr_1.8.6.tar.gz'\n",
            "\n",
            "R[write to console]: Content type 'application/x-gzip'\n",
            "R[write to console]:  length 401191 bytes (391 KB)\n",
            "\n",
            "R[write to console]: =\n",
            "R[write to console]: =\n",
            "R[write to console]: =\n",
            "R[write to console]: =\n",
            "R[write to console]: =\n",
            "R[write to console]: =\n",
            "R[write to console]: =\n",
            "R[write to console]: =\n",
            "R[write to console]: =\n",
            "R[write to console]: =\n",
            "R[write to console]: =\n",
            "R[write to console]: =\n",
            "R[write to console]: =\n",
            "R[write to console]: =\n",
            "R[write to console]: =\n",
            "R[write to console]: =\n",
            "R[write to console]: =\n",
            "R[write to console]: =\n",
            "R[write to console]: =\n",
            "R[write to console]: =\n",
            "R[write to console]: =\n",
            "R[write to console]: =\n",
            "R[write to console]: =\n",
            "R[write to console]: =\n",
            "R[write to console]: =\n",
            "R[write to console]: =\n",
            "R[write to console]: =\n",
            "R[write to console]: =\n",
            "R[write to console]: =\n",
            "R[write to console]: =\n",
            "R[write to console]: =\n",
            "R[write to console]: =\n",
            "R[write to console]: =\n",
            "R[write to console]: =\n",
            "R[write to console]: =\n",
            "R[write to console]: =\n",
            "R[write to console]: =\n",
            "R[write to console]: =\n",
            "R[write to console]: =\n",
            "R[write to console]: =\n",
            "R[write to console]: =\n",
            "R[write to console]: =\n",
            "R[write to console]: =\n",
            "R[write to console]: =\n",
            "R[write to console]: =\n",
            "R[write to console]: =\n",
            "R[write to console]: =\n",
            "R[write to console]: =\n",
            "R[write to console]: =\n",
            "R[write to console]: =\n",
            "R[write to console]: \n",
            "\n",
            "R[write to console]: downloaded 391 KB\n",
            "\n",
            "\n",
            "R[write to console]: \n",
            "\n",
            "R[write to console]: \n",
            "R[write to console]: The downloaded source packages are in\n",
            "\t‘/tmp/RtmpDxJd8e/downloaded_packages’\n",
            "R[write to console]: \n",
            "R[write to console]: \n",
            "\n"
          ],
          "name": "stderr"
        }
      ]
    },
    {
      "cell_type": "code",
      "metadata": {
        "colab": {
          "base_uri": "https://localhost:8080/"
        },
        "id": "IBZmtYDeQ2-c",
        "outputId": "be49702c-8535-4277-e308-6db151a5d48d"
      },
      "source": [
        "%%R\n",
        "### City\n",
        "\n",
        "# displaying the first 6 frequently occurring cities\n",
        "count_city <- count(df_clean$City)\n",
        "count_city_head <- head(arrange(count_city, desc(freq)))\n",
        "count_city_head"
      ],
      "execution_count": 54,
      "outputs": [
        {
          "output_type": "stream",
          "text": [
            "                x freq\n",
            "1       Lisamouth    3\n",
            "2    Williamsport    3\n",
            "3 Benjaminchester    2\n",
            "4       East John    2\n",
            "5    East Timothy    2\n",
            "6        Johnstad    2\n"
          ],
          "name": "stdout"
        }
      ]
    },
    {
      "cell_type": "code",
      "metadata": {
        "colab": {
          "base_uri": "https://localhost:8080/"
        },
        "id": "iwjbV9D-Q9MM",
        "outputId": "20656822-e24f-42b6-f5cf-cede753a23d1"
      },
      "source": [
        "%%R\n",
        "### male\n",
        "\n",
        "male_table <- table(df_clean$Male)\n",
        "male_table"
      ],
      "execution_count": 55,
      "outputs": [
        {
          "output_type": "stream",
          "text": [
            "\n",
            "  0   1 \n",
            "519 481 \n"
          ],
          "name": "stdout"
        }
      ]
    },
    {
      "cell_type": "code",
      "metadata": {
        "colab": {
          "base_uri": "https://localhost:8080/",
          "height": 496
        },
        "id": "B1pLh4s-RBaw",
        "outputId": "030377cf-de9e-4a6c-e931-cd811ad43b8c"
      },
      "source": [
        "%%R\n",
        "barplot(male_table)"
      ],
      "execution_count": 56,
      "outputs": [
        {
          "output_type": "display_data",
          "data": {
            "image/png": "[encoded data removed]"
          },
          "metadata": {}
        }
      ]
    },
    {
      "cell_type": "code",
      "metadata": {
        "colab": {
          "base_uri": "https://localhost:8080/"
        },
        "id": "1izkwXAhRE4B",
        "outputId": "805a0545-9716-4a7f-fdb8-c2c8d7926632"
      },
      "source": [
        "%%R\n",
        "### country \n",
        "\n",
        "# displaying the first 10 frequently occuring countries\n",
        "count_country <- count(df_clean$Country)\n",
        "count_country_head <- head(arrange(count_country, desc(freq)), 10)\n",
        "count_country_head"
      ],
      "execution_count": 57,
      "outputs": [
        {
          "output_type": "stream",
          "text": [
            "                x freq\n",
            "1  Czech Republic    9\n",
            "2          France    9\n",
            "3     Afghanistan    8\n",
            "4       Australia    8\n",
            "5          Cyprus    8\n",
            "6          Greece    8\n",
            "7         Liberia    8\n",
            "8      Micronesia    8\n",
            "9            Peru    8\n",
            "10        Senegal    8\n"
          ],
          "name": "stdout"
        }
      ]
    },
    {
      "cell_type": "code",
      "metadata": {
        "colab": {
          "base_uri": "https://localhost:8080/"
        },
        "id": "JH9VC4fcRI1y",
        "outputId": "d7aae7fd-974c-4e85-fb72-7cb9ff2291cd"
      },
      "source": [
        "%%R\n",
        "### month\n",
        "\n",
        "# displaying the months in order of most frequently occurring to least frequently occurring\n",
        "count_months <- count(df_clean$month)\n",
        "arrange(count_months, desc(freq))"
      ],
      "execution_count": 58,
      "outputs": [
        {
          "output_type": "stream",
          "text": [
            "   x freq\n",
            "1 02  160\n",
            "2 03  156\n",
            "3 01  147\n",
            "4 04  147\n",
            "5 05  147\n",
            "6 06  142\n",
            "7 07  101\n"
          ],
          "name": "stdout"
        }
      ]
    },
    {
      "cell_type": "markdown",
      "metadata": {
        "id": "zwqHAUJdRMr0"
      },
      "source": [
        "We see here that February is the most frequently occurring month with July being the least frequently occurring month. \n"
      ]
    },
    {
      "cell_type": "code",
      "metadata": {
        "colab": {
          "base_uri": "https://localhost:8080/"
        },
        "id": "eLmVZ4EwRMa0",
        "outputId": "4f603b85-2072-428b-b122-1671a4135621"
      },
      "source": [
        "%%R\n",
        "### day\n",
        "\n",
        "# displaying top 5 frequently occurring days\n",
        "count_days <- count(df_clean$day)\n",
        "head(arrange(count_days, desc(freq)), 5)"
      ],
      "execution_count": 60,
      "outputs": [
        {
          "output_type": "stream",
          "text": [
            "   x freq\n",
            "1 03   46\n",
            "2 17   42\n",
            "3 15   41\n",
            "4 10   37\n",
            "5 04   36\n"
          ],
          "name": "stdout"
        }
      ]
    },
    {
      "cell_type": "code",
      "metadata": {
        "colab": {
          "base_uri": "https://localhost:8080/"
        },
        "id": "sfkq44OuRVKK",
        "outputId": "540ee7c2-f49a-45e0-96c3-073c3b767c98"
      },
      "source": [
        "%%R\n",
        "tail(arrange(count_days, desc(freq)),5)"
      ],
      "execution_count": 61,
      "outputs": [
        {
          "output_type": "stream",
          "text": [
            "    x freq\n",
            "27 02   25\n",
            "28 06   25\n",
            "29 22   24\n",
            "30 25   23\n",
            "31 31   18\n"
          ],
          "name": "stdout"
        }
      ]
    },
    {
      "cell_type": "markdown",
      "metadata": {
        "id": "m1ghA9iORTPi"
      },
      "source": [
        "The 3rd day is the most frequently occurring day overall. However, to get a more accurate picture of this, we will look at which day occurs most frequently in which month. We will do this in bivariate analysis.\n",
        "The 31st day seems to be the least occurring day."
      ]
    },
    {
      "cell_type": "code",
      "metadata": {
        "colab": {
          "base_uri": "https://localhost:8080/"
        },
        "id": "D7s-8AwqRa_q",
        "outputId": "6e4717bc-edff-417e-daa6-d2e061ed1339"
      },
      "source": [
        "%%R\n",
        "### hour\n",
        "# displaying the top 5 hours\n",
        "count_hours <- count(df_clean$hour)\n",
        "head(arrange(count_hours, desc(freq)), 5)\n",
        "\n"
      ],
      "execution_count": 63,
      "outputs": [
        {
          "output_type": "stream",
          "text": [
            "   x freq\n",
            "1 07   54\n",
            "2 20   50\n",
            "3 09   49\n",
            "4 21   48\n",
            "5 00   45\n"
          ],
          "name": "stdout"
        }
      ]
    },
    {
      "cell_type": "code",
      "metadata": {
        "colab": {
          "base_uri": "https://localhost:8080/"
        },
        "id": "8u3w-XuzRgII",
        "outputId": "899e15fb-efbc-4dde-b0c7-17893cb739d1"
      },
      "source": [
        "%%R\n",
        "tail(arrange(count_hours, desc(freq)), 5)"
      ],
      "execution_count": 64,
      "outputs": [
        {
          "output_type": "stream",
          "text": [
            "    x freq\n",
            "20 12   38\n",
            "21 02   36\n",
            "22 15   35\n",
            "23 01   32\n",
            "24 10   31\n"
          ],
          "name": "stdout"
        }
      ]
    },
    {
      "cell_type": "markdown",
      "metadata": {
        "id": "lIylWGSGReCB"
      },
      "source": [
        "Most frequently occurring time appears to be around 7 AM. Least frequently occurring time appears to be around 10 AM. This is probably because more people get engrossed in the day's work.\n"
      ]
    },
    {
      "cell_type": "code",
      "metadata": {
        "colab": {
          "base_uri": "https://localhost:8080/"
        },
        "id": "LY6vX4wrRn5c",
        "outputId": "4bc8f672-8c6d-48fa-ef78-392092bfa6ff"
      },
      "source": [
        "%%R\n",
        "### clicked on ad\n",
        "\n",
        "ad_table <- table(df_clean$Clicked.on.Ad)\n",
        "print(ad_table)"
      ],
      "execution_count": 65,
      "outputs": [
        {
          "output_type": "stream",
          "text": [
            "\n",
            "  0   1 \n",
            "500 500 \n"
          ],
          "name": "stdout"
        }
      ]
    },
    {
      "cell_type": "markdown",
      "metadata": {
        "id": "LRe_ZTkRRsCC"
      },
      "source": [
        "Looks like the number of people who both clicked on the ad and didn't click on the ad is the same (500 each)."
      ]
    },
    {
      "cell_type": "markdown",
      "metadata": {
        "id": "4o2RAkNCRuFa"
      },
      "source": [
        "### Bivariate analysis\n",
        "We will start by looking at the relationship between our target variable (clicked_on_ad) and the other variables.\n"
      ]
    },
    {
      "cell_type": "code",
      "metadata": {
        "colab": {
          "base_uri": "https://localhost:8080/"
        },
        "id": "8rxNyJG2R1lV",
        "outputId": "92ff0416-2f08-43ed-8ff6-9efe148fd1ad"
      },
      "source": [
        "%%R\n",
        "# how many males clicked on ads\n",
        "ad_male.table <- table(df_clean$Clicked.on.Ad, df_clean$Male)\n",
        "names(dimnames(ad_male.table)) <- c(\"Clicked on Ad?\", \"Male?\")\n",
        "ad_male.table"
      ],
      "execution_count": 66,
      "outputs": [
        {
          "output_type": "stream",
          "text": [
            "              Male?\n",
            "Clicked on Ad?   0   1\n",
            "             0 250 250\n",
            "             1 269 231\n"
          ],
          "name": "stdout"
        }
      ]
    },
    {
      "cell_type": "markdown",
      "metadata": {
        "id": "lubhtb6SR5eM"
      },
      "source": [
        "From this we see that of those who clicked on the ad, 269 were female while 231 were male. There was no difference in gender of those who did not click on the ad.\n"
      ]
    },
    {
      "cell_type": "code",
      "metadata": {
        "colab": {
          "base_uri": "https://localhost:8080/"
        },
        "id": "7rcMtaUVR5Ja",
        "outputId": "0be6adcc-66d5-4ac4-9d86-8ec1bd863baf"
      },
      "source": [
        "%%R\n",
        "install.packages(\"ggplot2\")\n",
        "library(ggplot2)"
      ],
      "execution_count": 67,
      "outputs": [
        {
          "output_type": "stream",
          "text": [
            "R[write to console]: Installing package into ‘/usr/local/lib/R/site-library’\n",
            "(as ‘lib’ is unspecified)\n",
            "\n",
            "R[write to console]: trying URL 'https://cran.rstudio.com/src/contrib/ggplot2_3.3.5.tar.gz'\n",
            "\n",
            "R[write to console]: Content type 'application/x-gzip'\n",
            "R[write to console]:  length 3063309 bytes (2.9 MB)\n",
            "\n",
            "R[write to console]: =\n",
            "R[write to console]: =\n",
            "R[write to console]: =\n",
            "R[write to console]: =\n",
            "R[write to console]: =\n",
            "R[write to console]: =\n",
            "R[write to console]: =\n",
            "R[write to console]: =\n",
            "R[write to console]: =\n",
            "R[write to console]: =\n",
            "R[write to console]: =\n",
            "R[write to console]: =\n",
            "R[write to console]: =\n",
            "R[write to console]: =\n",
            "R[write to console]: =\n",
            "R[write to console]: =\n",
            "R[write to console]: =\n",
            "R[write to console]: =\n",
            "R[write to console]: =\n",
            "R[write to console]: =\n",
            "R[write to console]: =\n",
            "R[write to console]: =\n",
            "R[write to console]: =\n",
            "R[write to console]: =\n",
            "R[write to console]: =\n",
            "R[write to console]: =\n",
            "R[write to console]: =\n",
            "R[write to console]: =\n",
            "R[write to console]: =\n",
            "R[write to console]: =\n",
            "R[write to console]: =\n",
            "R[write to console]: =\n",
            "R[write to console]: =\n",
            "R[write to console]: =\n",
            "R[write to console]: =\n",
            "R[write to console]: =\n",
            "R[write to console]: =\n",
            "R[write to console]: =\n",
            "R[write to console]: =\n",
            "R[write to console]: =\n",
            "R[write to console]: =\n",
            "R[write to console]: =\n",
            "R[write to console]: =\n",
            "R[write to console]: =\n",
            "R[write to console]: =\n",
            "R[write to console]: =\n",
            "R[write to console]: =\n",
            "R[write to console]: =\n",
            "R[write to console]: =\n",
            "R[write to console]: =\n",
            "R[write to console]: \n",
            "\n",
            "R[write to console]: downloaded 2.9 MB\n",
            "\n",
            "\n",
            "R[write to console]: \n",
            "\n",
            "R[write to console]: \n",
            "R[write to console]: The downloaded source packages are in\n",
            "\t‘/tmp/RtmpDxJd8e/downloaded_packages’\n",
            "R[write to console]: \n",
            "R[write to console]: \n",
            "\n"
          ],
          "name": "stderr"
        }
      ]
    },
    {
      "cell_type": "code",
      "metadata": {
        "colab": {
          "base_uri": "https://localhost:8080/",
          "height": 496
        },
        "id": "GvQToEKkSIW0",
        "outputId": "1d6b792b-f10c-4b02-887c-ca4eedeb609f"
      },
      "source": [
        "%%R\n",
        "#Age and it's relationship to clicking an ad\n",
        "ggplot(df_clean, \n",
        "       aes(x = Age, \n",
        "           fill = Clicked.on.Ad)) +\n",
        "  geom_density(alpha = 0.4) +\n",
        "  labs(title = \"Age distribution vs chances of clicking on an ad\")"
      ],
      "execution_count": 68,
      "outputs": [
        {
          "output_type": "display_data",
          "data": {
            "image/png": "[encoded data removed]"
          },
          "metadata": {}
        }
      ]
    },
    {
      "cell_type": "markdown",
      "metadata": {
        "id": "fAQ3fadMSL9c"
      },
      "source": [
        "People from all age groups click on ads on the site. People above 40 are more likely to click on an ad as per the graph above.\n",
        "while younger people dont click as often"
      ]
    },
    {
      "cell_type": "code",
      "metadata": {
        "colab": {
          "base_uri": "https://localhost:8080/"
        },
        "id": "506mrqt8SNce",
        "outputId": "c19c9862-a2f7-417c-e675-9d0532ee2b02"
      },
      "source": [
        "%%R\n",
        "# ad clicked per month\n",
        "ad_month.table <- table(df_clean$month, df_clean$Clicked.on.Ad)\n",
        "names(dimnames(ad_month.table)) <- c(\"Month\", \"Clicked on Ad?\")\n",
        "ad_month.table"
      ],
      "execution_count": 70,
      "outputs": [
        {
          "output_type": "stream",
          "text": [
            "     Clicked on Ad?\n",
            "Month  0  1\n",
            "   01 78 69\n",
            "   02 77 83\n",
            "   03 82 74\n",
            "   04 73 74\n",
            "   05 68 79\n",
            "   06 71 71\n",
            "   07 51 50\n"
          ],
          "name": "stdout"
        }
      ]
    },
    {
      "cell_type": "markdown",
      "metadata": {
        "id": "rRht2DTKSP5k"
      },
      "source": [
        "Looking at this table, we see that February reports the highest number of ads clicked and July the least.\n"
      ]
    },
    {
      "cell_type": "code",
      "metadata": {
        "colab": {
          "base_uri": "https://localhost:8080/"
        },
        "id": "UMvp-JqiSR3d",
        "outputId": "dc89d6ab-39f0-44d5-af66-1a7664ce4524"
      },
      "source": [
        "%%R\n",
        "# ad clicked per day\n",
        "ad_day.table <- table(df_clean$day, df_clean$Clicked.on.Ad)\n",
        "names(dimnames(ad_day.table)) <- c(\"Day\", \"Clicked on Ad?\")\n",
        "ad_day.table"
      ],
      "execution_count": 71,
      "outputs": [
        {
          "output_type": "stream",
          "text": [
            "    Clicked on Ad?\n",
            "Day   0  1\n",
            "  01 14 19\n",
            "  02 15 10\n",
            "  03 20 26\n",
            "  04 22 14\n",
            "  05 17 18\n",
            "  06 11 14\n",
            "  07 18 14\n",
            "  08 20 15\n",
            "  09 14 20\n",
            "  10 18 19\n",
            "  11 17 15\n",
            "  12  9 20\n",
            "  13 13 17\n",
            "  14 12 21\n",
            "  15 21 20\n",
            "  16 21 14\n",
            "  17 24 18\n",
            "  18 18 17\n",
            "  19 17 12\n",
            "  20 22 11\n",
            "  21 17 15\n",
            "  22 14 10\n",
            "  23 13 22\n",
            "  24 15 18\n",
            "  25  8 15\n",
            "  26 21 15\n",
            "  27 19 16\n",
            "  28 13 17\n",
            "  29 14 15\n",
            "  30 14 14\n",
            "  31  9  9\n"
          ],
          "name": "stdout"
        }
      ]
    },
    {
      "cell_type": "markdown",
      "metadata": {
        "id": "NWWLyG3jSVvr"
      },
      "source": [
        "Day 03 has the highest number of ads clicked. Day 31 has the least.\n"
      ]
    },
    {
      "cell_type": "code",
      "metadata": {
        "colab": {
          "base_uri": "https://localhost:8080/"
        },
        "id": "vuZtkDoRSXzY",
        "outputId": "4be48ce2-e2bc-4c48-b601-9134df3d0a52"
      },
      "source": [
        "%%R\n",
        "# ad clicked per hour\n",
        "ad_hour.table <- table(df_clean$hour, df_clean$Clicked.on.Ad)\n",
        "names(dimnames(ad_hour.table)) <- c(\"Hour\", \"Clicked on Ad?\")\n",
        "ad_hour.table"
      ],
      "execution_count": 72,
      "outputs": [
        {
          "output_type": "stream",
          "text": [
            "    Clicked on Ad?\n",
            "Hour  0  1\n",
            "  00 19 26\n",
            "  01 16 16\n",
            "  02 19 17\n",
            "  03 19 23\n",
            "  04 21 21\n",
            "  05 23 21\n",
            "  06 16 23\n",
            "  07 28 26\n",
            "  08 22 21\n",
            "  09 21 28\n",
            "  10 17 14\n",
            "  11 16 24\n",
            "  12 22 16\n",
            "  13 21 21\n",
            "  14 22 21\n",
            "  15 16 19\n",
            "  16 23 16\n",
            "  17 18 23\n",
            "  18 16 25\n",
            "  19 20 19\n",
            "  20 26 24\n",
            "  21 29 19\n",
            "  22 24 19\n",
            "  23 26 18\n"
          ],
          "name": "stdout"
        }
      ]
    },
    {
      "cell_type": "markdown",
      "metadata": {
        "id": "5uC1hh-xSaYz"
      },
      "source": [
        "Hour 09 (9 AM) returned the highest number of ads clicked, 28, whereas Hour 10 (10 AM) returned the lowest, 14.\n"
      ]
    },
    {
      "cell_type": "code",
      "metadata": {
        "colab": {
          "base_uri": "https://localhost:8080/"
        },
        "id": "MDC2vhzBScFD",
        "outputId": "1c1d3bb3-1c00-46fe-fc72-323b81537428"
      },
      "source": [
        "%%R\n",
        "# ad clicked per city\n",
        "ad_city.table <- table(df_clean$City, df_clean$Clicked.on.Ad)\n",
        "names(dimnames(ad_city.table)) <- c(\"City\", \"Clicked on Ad?\")\n",
        "ad_city.table"
      ],
      "execution_count": 73,
      "outputs": [
        {
          "output_type": "stream",
          "text": [
            "                         Clicked on Ad?\n",
            "City                      0 1\n",
            "  Adamsbury               0 1\n",
            "  Adamside                0 1\n",
            "  Adamsstad               1 0\n",
            "  Alanview                1 0\n",
            "  Alexanderfurt           0 1\n",
            "  Alexanderview           0 1\n",
            "  Alexandrafort           1 0\n",
            "  Alexisland              1 0\n",
            "  Aliciatown              0 1\n",
            "  Alvaradoport            0 1\n",
            "  Alvarezland             0 1\n",
            "  Amandafort              0 1\n",
            "  Amandahaven             0 1\n",
            "  Amandaland              1 0\n",
            "  Amyfurt                 1 0\n",
            "  Amyhaven                1 0\n",
            "  Andersonchester         0 1\n",
            "  Andersonfurt            0 1\n",
            "  Andersonton             1 0\n",
            "  Andrewborough           0 1\n",
            "  Andrewmouth             1 0\n",
            "  Angelhaven              1 0\n",
            "  Anthonyfurt             1 0\n",
            "  Ashleychester           1 0\n",
            "  Ashleymouth             1 0\n",
            "  Austinborough           1 0\n",
            "  Austinland              1 0\n",
            "  Bakerhaven              1 0\n",
            "  Barbershire             1 0\n",
            "  Beckton                 1 0\n",
            "  Benjaminchester         2 0\n",
            "  Bernardton              0 1\n",
            "  Bethburgh               0 1\n",
            "  Birdshire               1 0\n",
            "  Blairborough            0 1\n",
            "  Blairville              1 0\n",
            "  Blevinstown             0 1\n",
            "  Bowenview               1 0\n",
            "  Boyerberg               0 1\n",
            "  Bradleyborough          1 0\n",
            "  Bradleyburgh            0 1\n",
            "  Bradleyside             0 1\n",
            "  Bradshawborough         1 0\n",
            "  Bradyfurt               0 1\n",
            "  Brandiland              0 1\n",
            "  Brandonbury             0 1\n",
            "  Brandonstad             1 0\n",
            "  Brandymouth             0 1\n",
            "  Brendaburgh             1 0\n",
            "  Brendachester           0 1\n",
            "  Brianabury              1 0\n",
            "  Brianfurt               0 1\n",
            "  Brianland               0 1\n",
            "  Brittanyborough         0 1\n",
            "  Brownbury               1 0\n",
            "  Brownport               0 1\n",
            "  Brownton                0 1\n",
            "  Browntown               0 1\n",
            "  Brownview               1 0\n",
            "  Bruceburgh              1 0\n",
            "  Burgessside             0 1\n",
            "  Butlerfort              0 1\n",
            "  Calebberg               1 0\n",
            "  Cameronberg             0 1\n",
            "  Campbellstad            1 0\n",
            "  Cannonbury              1 0\n",
            "  Carsonshire             1 0\n",
            "  Carterburgh             1 0\n",
            "  Carterland              0 1\n",
            "  Carterport              1 0\n",
            "  Carterton               1 0\n",
            "  Cassandratown           1 0\n",
            "  Catherinefort           0 1\n",
            "  Cervantesshire          0 1\n",
            "  Chapmanland             1 0\n",
            "  Chapmanmouth            0 1\n",
            "  Charlenetown            0 1\n",
            "  Charlesbury             1 0\n",
            "  Charlesport             0 1\n",
            "  Charlottefort           0 1\n",
            "  Chaseshire              0 1\n",
            "  Chrismouth              0 1\n",
            "  Christinehaven          0 1\n",
            "  Christinetown           0 1\n",
            "  Christopherchester      1 0\n",
            "  Christopherport         0 1\n",
            "  Christopherville        1 0\n",
            "  Clarkborough            0 1\n",
            "  Claytonside             1 0\n",
            "  Clineshire              1 0\n",
            "  Codyburgh               0 1\n",
            "  Coffeytown              1 0\n",
            "  Colebury                0 1\n",
            "  Colemanshire            1 0\n",
            "  Collinsburgh            1 0\n",
            "  Combsstad               0 1\n",
            "  Contrerasshire          1 0\n",
            "  Costaburgh              0 1\n",
            "  Courtneyfort            0 1\n",
            "  Coxhaven                1 0\n",
            "  Cranemouth              1 0\n",
            "  Crawfordfurt            0 1\n",
            "  Cunninghamhaven         0 1\n",
            "  Curtisport              0 1\n",
            "  Curtisview              1 0\n",
            "  Cynthiaside             1 0\n",
            "  Daisymouth              1 0\n",
            "  Danielview              0 1\n",
            "  Davidmouth              0 1\n",
            "  Davidside               0 1\n",
            "  Davidstad               0 1\n",
            "  Davidton                1 0\n",
            "  Davidview               0 1\n",
            "  Daviesborough           1 0\n",
            "  Davieshaven             1 0\n",
            "  Davilachester           0 1\n",
            "  Davisfurt               0 1\n",
            "  Dayton                  1 0\n",
            "  Deannaville             1 0\n",
            "  Debraburgh              0 1\n",
            "  Derrickhaven            1 0\n",
            "  Destinyfurt             0 1\n",
            "  Dianashire              1 0\n",
            "  Dianaville              0 1\n",
            "  Donaldshire             1 0\n",
            "  Douglasview             1 0\n",
            "  Duffystad               0 1\n",
            "  Dustinborough           1 0\n",
            "  Dustinchester           1 0\n",
            "  Dustinmouth             0 1\n",
            "  East Aaron              1 0\n",
            "  East Anthony            0 1\n",
            "  East Barbara            0 1\n",
            "  East Benjaminville      1 0\n",
            "  East Breannafurt        0 1\n",
            "  East Brettton           0 1\n",
            "  East Brianberg          1 0\n",
            "  East Brittanyville      0 1\n",
            "  East Carlos             1 0\n",
            "  East Christopher        1 0\n",
            "  East Christopherbury    1 0\n",
            "  East Connie             1 0\n",
            "  East Dana               0 1\n",
            "  East Deborahhaven       1 0\n",
            "  East Debraborough       1 0\n",
            "  East Donna              0 1\n",
            "  East Donnatown          1 0\n",
            "  East Eric               0 1\n",
            "  East Ericport           0 1\n",
            "  East Georgeside         0 1\n",
            "  East Graceland          1 0\n",
            "  East Heatherside        0 1\n",
            "  East Heidi              0 1\n",
            "  East Henry              1 0\n",
            "  East Jason              0 1\n",
            "  East Jennifer           1 0\n",
            "  East Jessefort          0 1\n",
            "  East John               1 1\n",
            "  East Johnport           1 0\n",
            "  East Kevinbury          0 1\n",
            "  East Lindsey            0 1\n",
            "  East Maureen            0 1\n",
            "  East Michaelland        1 0\n",
            "  East Michaelmouth       0 1\n",
            "  East Michaeltown        1 0\n",
            "  East Michele            0 1\n",
            "  East Michelleberg       0 1\n",
            "  East Mike               0 1\n",
            "  East Paul               1 0\n",
            "  East Rachaelfurt        0 1\n",
            "  East Rachelview         0 1\n",
            "  East Ronald             0 1\n",
            "  East Samanthashire      0 1\n",
            "  East Sharon             0 1\n",
            "  East Shawn              0 1\n",
            "  East Shawnchester       1 0\n",
            "  East Sheriville         1 0\n",
            "  East Stephen            0 1\n",
            "  East Susanland          1 0\n",
            "  East Tammie             0 1\n",
            "  East Theresashire       1 0\n",
            "  East Tiffanyport        1 0\n",
            "  East Timothy            2 0\n",
            "  East Timothyport        1 0\n",
            "  East Toddfort           1 0\n",
            "  East Troyhaven          1 0\n",
            "  East Tylershire         0 1\n",
            "  East Valerie            1 0\n",
            "  East Vincentstad        0 1\n",
            "  East Yvonnechester      0 1\n",
            "  Edwardmouth             1 0\n",
            "  Edwardsmouth            1 0\n",
            "  Edwardsport             0 1\n",
            "  Elizabethbury           0 1\n",
            "  Elizabethmouth          1 0\n",
            "  Elizabethport           0 1\n",
            "  Elizabethstad           0 1\n",
            "  Emilyfurt               1 0\n",
            "  Ericksonmouth           0 1\n",
            "  Erikville               1 0\n",
            "  Erinmouth               1 0\n",
            "  Erinton                 0 1\n",
            "  Estesfurt               0 1\n",
            "  Estradafurt             1 0\n",
            "  Estradashire            0 1\n",
            "  Evansfurt               1 0\n",
            "  Evansville              0 1\n",
            "  Faithview               1 0\n",
            "  Florestown              0 1\n",
            "  Fosterside              0 1\n",
            "  Frankbury               0 1\n",
            "  Frankchester            1 0\n",
            "  Frankport               0 1\n",
            "  Fraziershire            0 1\n",
            "  Garciamouth             0 1\n",
            "  Garciaside              0 1\n",
            "  Garciatown              1 0\n",
            "  Garciaview              0 1\n",
            "  Garnerberg              1 0\n",
            "  Garrettborough          1 0\n",
            "  Garychester             1 0\n",
            "  Gilbertville            1 0\n",
            "  Gomezport               1 0\n",
            "  Gonzalezburgh           1 0\n",
            "  Grahamberg              0 1\n",
            "  Gravesport              1 0\n",
            "  Greenechester           1 0\n",
            "  Greentown               1 0\n",
            "  Greerport               0 1\n",
            "  Greerton                1 0\n",
            "  Greghaven               1 0\n",
            "  Guzmanland              0 1\n",
            "  Haleberg                1 0\n",
            "  Haleview                1 0\n",
            "  Hallfort                1 0\n",
            "  Hamiltonfort            0 1\n",
            "  Hammondport             1 0\n",
            "  Hannahside              1 0\n",
            "  Hannaport               0 1\n",
            "  Hansenland              0 1\n",
            "  Hansenmouth             0 1\n",
            "  Harmonhaven             1 0\n",
            "  Harperborough           0 1\n",
            "  Harrishaven             1 0\n",
            "  Harrisonmouth           1 0\n",
            "  Hartmanchester          0 1\n",
            "  Hartport                1 0\n",
            "  Harveyport              0 1\n",
            "  Hatfieldshire           1 0\n",
            "  Hawkinsbury             0 1\n",
            "  Hayesmouth              1 0\n",
            "  Heatherberg             0 1\n",
            "  Helenborough            0 1\n",
            "  Hendrixmouth            0 1\n",
            "  Henryfort               1 0\n",
            "  Henryland               0 1\n",
            "  Hernandezchester        1 0\n",
            "  Hernandezfort           1 0\n",
            "  Hernandezside           0 1\n",
            "  Hernandezville          0 1\n",
            "  Hessstad                1 0\n",
            "  Hintonport              0 1\n",
            "  Hobbsbury               0 1\n",
            "  Holderville             0 1\n",
            "  Hollandberg             1 0\n",
            "  Hollyfurt               1 0\n",
            "  Hubbardmouth            0 1\n",
            "  Huffmanchester          0 1\n",
            "  Hughesport              0 1\n",
            "  Hurleyborough           1 0\n",
            "  Ianmouth                1 0\n",
            "  Ingramberg              1 0\n",
            "  Isaacborough            0 1\n",
            "  Jacksonburgh            0 1\n",
            "  Jacksonmouth            1 0\n",
            "  Jacksonstad             0 1\n",
            "  Jacobstad               0 1\n",
            "  Jacquelineshire         0 1\n",
            "  Jamesberg               1 0\n",
            "  Jamesfurt               0 1\n",
            "  Jamesmouth              0 1\n",
            "  Jamesville              1 0\n",
            "  Jamieberg               1 0\n",
            "  Jamiefort               1 0\n",
            "  Janiceview              1 0\n",
            "  Jasminefort             1 0\n",
            "  Jayville                1 0\n",
            "  Jeffreyburgh            0 1\n",
            "  Jeffreymouth            0 1\n",
            "  Jeffreyshire            1 0\n",
            "  Jenniferhaven           0 1\n",
            "  Jenniferstad            1 0\n",
            "  Jensenborough           0 1\n",
            "  Jensenton               0 1\n",
            "  Jeremybury              0 1\n",
            "  Jeremyshire             1 0\n",
            "  Jessicahaven            0 1\n",
            "  Jessicashire            0 1\n",
            "  Jessicastad             0 1\n",
            "  Joanntown               1 0\n",
            "  Joechester              0 1\n",
            "  Johnport                1 0\n",
            "  Johnsonfort             1 0\n",
            "  Johnsontown             0 1\n",
            "  Johnsonview             0 1\n",
            "  Johnsport               1 0\n",
            "  Johnstad                2 0\n",
            "  Johnstonmouth           0 1\n",
            "  Johnstonshire           1 0\n",
            "  Jonathanland            0 1\n",
            "  Jonathantown            0 1\n",
            "  Jonesland               1 0\n",
            "  Jonesmouth              1 0\n",
            "  Jonesshire              0 1\n",
            "  Joneston                1 1\n",
            "  Jordanmouth             1 0\n",
            "  Jordanshire             0 1\n",
            "  Jordantown              0 1\n",
            "  Josephberg              0 1\n",
            "  Josephmouth             0 1\n",
            "  Josephstad              0 1\n",
            "  Joshuaburgh             1 0\n",
            "  Joshuamouth             1 0\n",
            "  Juanport                1 0\n",
            "  Juliaport               1 0\n",
            "  Julietown               0 1\n",
            "  Karenmouth              1 0\n",
            "  Karenton                1 0\n",
            "  Katieport               0 1\n",
            "  Kaylashire              1 0\n",
            "  Keithtown               0 1\n",
            "  Kellytown               1 0\n",
            "  Kennedyfurt             1 0\n",
            "  Kennethview             1 0\n",
            "  Kentmouth               0 1\n",
            "  Kevinberg               0 1\n",
            "  Kevinchester            1 0\n",
            "  Kimberlyhaven           1 0\n",
            "  Kimberlymouth           0 1\n",
            "  Kimberlytown            1 0\n",
            "  Kingchester             0 1\n",
            "  Kingshire               1 0\n",
            "  Klineside               0 1\n",
            "  Knappburgh              1 0\n",
            "  Kristineberg            1 0\n",
            "  Kristinfurt             0 1\n",
            "  Kristintown             0 1\n",
            "  Kyleborough             0 1\n",
            "  Kylieview               1 0\n",
            "  Lake Adrian             1 0\n",
            "  Lake Allenville         0 1\n",
            "  Lake Amanda             0 1\n",
            "  Lake Amy                1 0\n",
            "  Lake Angela             1 0\n",
            "  Lake Annashire          1 0\n",
            "  Lake Beckyburgh         0 1\n",
            "  Lake Brandonview        0 1\n",
            "  Lake Brian              1 0\n",
            "  Lake Cassandraport      0 1\n",
            "  Lake Charlottestad      0 1\n",
            "  Lake Christopherfurt    0 1\n",
            "  Lake Conniefurt         0 1\n",
            "  Lake Courtney           1 0\n",
            "  Lake Craigview          0 1\n",
            "  Lake Cynthia            1 0\n",
            "  Lake Danielle           1 0\n",
            "  Lake David              0 2\n",
            "  Lake Deannaborough      1 0\n",
            "  Lake Deborahburgh       1 0\n",
            "  Lake Dustin             0 1\n",
            "  Lake Edward             0 1\n",
            "  Lake Elizabethside      1 0\n",
            "  Lake Evantown           0 1\n",
            "  Lake Faith              0 1\n",
            "  Lake Gerald             0 1\n",
            "  Lake Hailey             1 0\n",
            "  Lake Ian                0 1\n",
            "  Lake Jacob              1 0\n",
            "  Lake Jacqueline         1 0\n",
            "  Lake James              0 2\n",
            "  Lake Jasonchester       1 0\n",
            "  Lake Jennifer           0 1\n",
            "  Lake Jenniferton        1 0\n",
            "  Lake Jessica            0 1\n",
            "  Lake Jessicaville       0 1\n",
            "  Lake Jesus              0 1\n",
            "  Lake Jillville          1 0\n",
            "  Lake John               0 1\n",
            "  Lake Johnbury           0 1\n",
            "  Lake Jonathanview       1 0\n",
            "  Lake Jose               1 1\n",
            "  Lake Joseph             1 0\n",
            "  Lake Josetown           1 0\n",
            "  Lake Joshuafurt         0 1\n",
            "  Lake Kevin              1 0\n",
            "  Lake Kurtmouth          1 0\n",
            "  Lake Lisa               1 0\n",
            "  Lake Matthew            0 1\n",
            "  Lake Matthewland        1 0\n",
            "  Lake Melindamouth       1 0\n",
            "  Lake Michael            1 0\n",
            "  Lake Michaelport        1 0\n",
            "  Lake Michelle           0 1\n",
            "  Lake Michellebury       0 1\n",
            "  Lake Nicole             1 0\n",
            "  Lake Patrick            2 0\n",
            "  Lake Rhondaburgh        0 1\n",
            "  Lake Stephenborough     0 1\n",
            "  Lake Susan              1 1\n",
            "  Lake Timothy            1 0\n",
            "  Lake Tracy              0 1\n",
            "  Lake Vanessa            0 1\n",
            "  Lake Zacharyfurt        1 0\n",
            "  Lauraburgh              1 0\n",
            "  Laurieside              1 0\n",
            "  Lawrenceborough         1 0\n",
            "  Lawsonshire             0 1\n",
            "  Leahside                0 1\n",
            "  Leonchester             1 0\n",
            "  Lesliebury              0 1\n",
            "  Lesliefort              1 0\n",
            "  Lewismouth              0 1\n",
            "  Lindaside               1 0\n",
            "  Lindsaymouth            1 0\n",
            "  Lisaberg                1 0\n",
            "  Lisafort                1 0\n",
            "  Lisamouth               1 2\n",
            "  Lopezberg               0 1\n",
            "  Lopezmouth              1 0\n",
            "  Loriville               0 1\n",
            "  Lovemouth               0 1\n",
            "  Luischester             1 0\n",
            "  Luisfurt                1 0\n",
            "  Lukeport                1 0\n",
            "  Mackenziemouth          1 0\n",
            "  Marcushaven             1 0\n",
            "  Mariahview              0 1\n",
            "  Mariebury               1 0\n",
            "  Mariemouth              1 0\n",
            "  Markhaven               0 1\n",
            "  Masonhaven              1 0\n",
            "  Masseyshire             0 1\n",
            "  Mataberg                1 0\n",
            "  Matthewtown             0 1\n",
            "  Mauricefurt             0 1\n",
            "  Mauriceshire            1 0\n",
            "  Mcdonaldfort            1 0\n",
            "  Mclaughlinbury          1 0\n",
            "  Meaganfort              1 0\n",
            "  Meghanchester           0 1\n",
            "  Melanieton              0 1\n",
            "  Melissachester          0 1\n",
            "  Melissafurt             1 0\n",
            "  Melissastad             1 0\n",
            "  Meyerchester            1 0\n",
            "  Meyersstad              0 1\n",
            "  Mezaton                 0 1\n",
            "  Michaelland             1 0\n",
            "  Michaelmouth            1 0\n",
            "  Michaelshire            0 1\n",
            "  Micheletown             0 1\n",
            "  Michellefort            0 1\n",
            "  Michelleside            0 2\n",
            "  Millerbury              0 2\n",
            "  Millerchester           0 1\n",
            "  Millerfort              1 0\n",
            "  Millerland              1 0\n",
            "  Millerside              0 1\n",
            "  Millertown              1 1\n",
            "  Millerview              1 0\n",
            "  Mollyport               1 0\n",
            "  Monicaview              0 1\n",
            "  Morganfort              1 0\n",
            "  Morganport              0 1\n",
            "  Morrismouth             0 1\n",
            "  Mosleyburgh             1 0\n",
            "  Mullenside              1 0\n",
            "  Munozberg               1 0\n",
            "  Murphymouth             1 0\n",
            "  Nelsonfurt              0 1\n",
            "  New Amanda              0 1\n",
            "  New Angelview           0 1\n",
            "  New Brandy              1 0\n",
            "  New Brendafurt          0 1\n",
            "  New Charleschester      0 1\n",
            "  New Christinatown       0 1\n",
            "  New Cynthia             1 0\n",
            "  New Daniellefort        0 1\n",
            "  New Darlene             0 1\n",
            "  New Dawnland            1 0\n",
            "  New Debbiestad          0 1\n",
            "  New Denisebury          0 1\n",
            "  New Frankshire          1 0\n",
            "  New Gabriel             1 0\n",
            "  New Henry               0 1\n",
            "  New Hollyberg           0 1\n",
            "  New James               0 1\n",
            "  New Jamestown           1 0\n",
            "  New Jasmine             1 0\n",
            "  New Jay                 0 1\n",
            "  New Jeffreychester      1 0\n",
            "  New Jessicaport         2 0\n",
            "  New Johnberg            1 0\n",
            "  New Joshuaport          0 1\n",
            "  New Juan                1 0\n",
            "  New Julianberg          0 1\n",
            "  New Julie               1 0\n",
            "  New Karenberg           0 1\n",
            "  New Kayla               1 0\n",
            "  New Keithburgh          0 1\n",
            "  New Lindaberg           0 1\n",
            "  New Lucasburgh          0 1\n",
            "  New Marcusbury          0 1\n",
            "  New Maria               1 0\n",
            "  New Matthew             0 1\n",
            "  New Michael             0 1\n",
            "  New Michaeltown         1 0\n",
            "  New Nancy               0 1\n",
            "  New Nathan              1 0\n",
            "  New Patriciashire       1 0\n",
            "  New Patrick             0 1\n",
            "  New Paul                1 0\n",
            "  New Rachel              0 1\n",
            "  New Rebecca             0 1\n",
            "  New Sabrina             0 1\n",
            "  New Sean                1 0\n",
            "  New Shane               1 0\n",
            "  New Sharon              1 0\n",
            "  New Sheila              2 0\n",
            "  New Sonialand           1 0\n",
            "  New Steve               1 0\n",
            "  New Tammy               0 1\n",
            "  New Taylorburgh         1 0\n",
            "  New Teresa              0 1\n",
            "  New Theresa             0 1\n",
            "  New Thomas              0 1\n",
            "  New Timothy             0 1\n",
            "  New Tina                0 1\n",
            "  New Tinamouth           1 0\n",
            "  New Traceystad          1 0\n",
            "  New Travis              1 0\n",
            "  New Travistown          0 1\n",
            "  New Tyler               1 0\n",
            "  New Wanda               1 0\n",
            "  New Williammouth        0 1\n",
            "  New Williamville        0 1\n",
            "  Newmanberg              1 0\n",
            "  Nicholasland            0 1\n",
            "  Nicholasport            1 0\n",
            "  North Aaronburgh        0 1\n",
            "  North Aaronchester      0 1\n",
            "  North Alexandra         1 0\n",
            "  North Anaport           1 0\n",
            "  North Andrew            0 1\n",
            "  North Andrewstad        0 1\n",
            "  North Angelastad        0 1\n",
            "  North Angelatown        0 1\n",
            "  North Anna              1 0\n",
            "  North April             0 1\n",
            "  North Brandon           1 0\n",
            "  North Brittanyburgh     0 1\n",
            "  North Cassie            0 1\n",
            "  North Charlesbury       0 1\n",
            "  North Christopher       1 0\n",
            "  North Daniel            1 1\n",
            "  North Debra             1 0\n",
            "  North Debrashire        0 1\n",
            "  North Derekville        0 1\n",
            "  North Destiny           0 1\n",
            "  North Elizabeth         1 0\n",
            "  North Frankstad         1 0\n",
            "  North Garyhaven         1 0\n",
            "  North Isabellaville     1 0\n",
            "  North Jenniferburgh     0 1\n",
            "  North Jeremyport        1 0\n",
            "  North Jessicaville      0 1\n",
            "  North Johnside          1 0\n",
            "  North Johntown          0 1\n",
            "  North Jonathan          0 1\n",
            "  North Joshua            1 0\n",
            "  North Katie             0 1\n",
            "  North Kennethside       1 0\n",
            "  North Kevinside         0 1\n",
            "  North Kimberly          0 1\n",
            "  North Kristine          1 0\n",
            "  North Lauraland         0 1\n",
            "  North Laurenview        1 0\n",
            "  North Leonmouth         1 0\n",
            "  North Lisachester       1 0\n",
            "  North Loriburgh         1 0\n",
            "  North Mark              0 1\n",
            "  North Maryland          0 1\n",
            "  North Mercedes          0 1\n",
            "  North Michael           0 1\n",
            "  North Monicaville       1 0\n",
            "  North Randy             1 0\n",
            "  North Raymond           1 0\n",
            "  North Regina            0 1\n",
            "  North Ricardotown       0 1\n",
            "  North Richardburgh      0 1\n",
            "  North Ronaldshire       1 0\n",
            "  North Russellborough    0 1\n",
            "  North Samantha          0 1\n",
            "  North Sarashire         0 1\n",
            "  North Shannon           1 0\n",
            "  North Stephanieberg     1 0\n",
            "  North Tara              1 0\n",
            "  North Tiffany           1 0\n",
            "  North Tracyport         1 0\n",
            "  North Tylerland         1 0\n",
            "  North Virginia          0 1\n",
            "  North Wesleychester     1 0\n",
            "  Novaktown               1 0\n",
            "  Odomville               1 0\n",
            "  Olsonside               0 1\n",
            "  Olsonstad               0 1\n",
            "  Palmerside              0 1\n",
            "  Pamelamouth             2 0\n",
            "  Parkerhaven             1 0\n",
            "  Patriciahaven           1 0\n",
            "  Patrickmouth            1 0\n",
            "  Pattymouth              0 1\n",
            "  Paulhaven               1 0\n",
            "  Paulport                1 0\n",
            "  Paulshire               1 0\n",
            "  Pearsonfort             1 0\n",
            "  Penatown                0 1\n",
            "  Perezland               1 0\n",
            "  Perryburgh              0 1\n",
            "  Petersonfurt            0 1\n",
            "  Phelpschester           1 0\n",
            "  Philipberg              0 1\n",
            "  Phillipsbury            0 1\n",
            "  Port Aliciabury         1 0\n",
            "  Port Angelamouth        0 1\n",
            "  Port Anthony            1 0\n",
            "  Port Aprilville         0 1\n",
            "  Port Beth               0 1\n",
            "  Port Blake              0 1\n",
            "  Port Brenda             0 1\n",
            "  Port Brian              0 1\n",
            "  Port Brianfort          1 0\n",
            "  Port Brittanyville      1 0\n",
            "  Port Brookeland         0 1\n",
            "  Port Calvintown         1 0\n",
            "  Port Cassie             0 1\n",
            "  Port Chasemouth         1 0\n",
            "  Port Christina          0 1\n",
            "  Port Christinemouth     1 0\n",
            "  Port Christopher        0 1\n",
            "  Port Christopherborough 0 1\n",
            "  Port Crystal            0 1\n",
            "  Port Daniel             1 0\n",
            "  Port Danielleberg       1 0\n",
            "  Port Davidland          1 0\n",
            "  Port Dennis             0 1\n",
            "  Port Derekberg          0 1\n",
            "  Port Destiny            1 0\n",
            "  Port Douglasborough     0 1\n",
            "  Port Elijah             1 0\n",
            "  Port Eric               0 1\n",
            "  Port Erikhaven          0 1\n",
            "  Port Erinberg           0 1\n",
            "  Port Eugeneport         1 0\n",
            "  Port Georgebury         0 1\n",
            "  Port Gregory            1 0\n",
            "  Port Jacqueline         1 0\n",
            "  Port Jacquelinestad     1 0\n",
            "  Port James              1 0\n",
            "  Port Jasmine            1 0\n",
            "  Port Jason              1 1\n",
            "  Port Jefferybury        0 1\n",
            "  Port Jeffrey            1 0\n",
            "  Port Jennifer           0 1\n",
            "  Port Jessica            0 1\n",
            "  Port Jessicamouth       1 0\n",
            "  Port Jodi               1 0\n",
            "  Port Joshuafort         0 1\n",
            "  Port Juan               1 1\n",
            "  Port Julie              1 1\n",
            "  Port Karenfurt          1 0\n",
            "  Port Katelynview        0 1\n",
            "  Port Kathleenfort       0 1\n",
            "  Port Kevinborough       1 0\n",
            "  Port Lawrence           0 1\n",
            "  Port Maria              1 0\n",
            "  Port Mathew             1 0\n",
            "  Port Melissaberg        0 1\n",
            "  Port Melissastad        1 0\n",
            "  Port Michaelmouth       0 1\n",
            "  Port Michealburgh       0 1\n",
            "  Port Mitchell           0 1\n",
            "  Port Patrickton         0 1\n",
            "  Port Paultown           0 1\n",
            "  Port Rachel             0 1\n",
            "  Port Raymondfort        1 0\n",
            "  Port Robin              1 0\n",
            "  Port Sarahhaven         0 1\n",
            "  Port Sarahshire         0 1\n",
            "  Port Sherrystad         0 1\n",
            "  Port Stacey             1 0\n",
            "  Port Stacy              1 0\n",
            "  Port Susan              1 0\n",
            "  Port Whitneyhaven       1 0\n",
            "  Portermouth             1 0\n",
            "  Pottermouth             0 1\n",
            "  Princebury              1 0\n",
            "  Pruittmouth             1 0\n",
            "  Rachelhaven             1 0\n",
            "  Ramirezhaven            0 1\n",
            "  Ramirezland             1 0\n",
            "  Ramirezside             0 1\n",
            "  Ramirezton              1 0\n",
            "  Ramosstad               1 0\n",
            "  Randolphport            1 0\n",
            "  Randyshire              1 0\n",
            "  Rebeccamouth            0 1\n",
            "  Reginamouth             0 1\n",
            "  Reneechester            0 1\n",
            "  Reyesfurt               1 0\n",
            "  Reyesland               1 0\n",
            "  Rhondaborough           1 0\n",
            "  Richardshire            0 1\n",
            "  Richardsland            1 0\n",
            "  Richardsonland          0 1\n",
            "  Richardsonmouth         1 0\n",
            "  Richardsonshire         0 1\n",
            "  Richardsontown          1 0\n",
            "  Rickymouth              1 0\n",
            "  Riggsstad               1 0\n",
            "  Rivasland               0 1\n",
            "  Robertbury              1 0\n",
            "  Robertfurt              0 2\n",
            "  Robertmouth             1 0\n",
            "  Robertside              0 1\n",
            "  Robertsonburgh          0 1\n",
            "  Robertstown             0 1\n",
            "  Roberttown              0 1\n",
            "  Robinsonland            1 0\n",
            "  Robinsontown            0 1\n",
            "  Rochabury               0 1\n",
            "  Rogerburgh              0 1\n",
            "  Rogerland               1 0\n",
            "  Ronaldport              0 1\n",
            "  Ronniemouth             0 1\n",
            "  Russellville            0 1\n",
            "  Ryanhaven               0 1\n",
            "  Sabrinaview             1 0\n",
            "  Salazarbury             0 1\n",
            "  Samanthaland            0 1\n",
            "  Samuelborough           1 0\n",
            "  Sanchezland             1 0\n",
            "  Sanchezmouth            1 0\n",
            "  Sandersland             1 0\n",
            "  Sanderstown             0 1\n",
            "  Sandraland              1 0\n",
            "  Sandrashire             0 1\n",
            "  Sandraville             1 0\n",
            "  Sarafurt                1 0\n",
            "  Sarahland               0 1\n",
            "  Sarahton                1 0\n",
            "  Sellerstown             1 0\n",
            "  Shaneland               1 0\n",
            "  Sharpberg               1 0\n",
            "  Shawnside               1 0\n",
            "  Shawstad                1 0\n",
            "  Shelbyport              1 1\n",
            "  Sherrishire             1 0\n",
            "  Shirleyfort             1 0\n",
            "  Silvaton                0 1\n",
            "  Smithburgh              1 0\n",
            "  Smithside               0 1\n",
            "  Smithtown               1 0\n",
            "  South Aaron             0 1\n",
            "  South Adam              0 1\n",
            "  South Adamhaven         1 0\n",
            "  South Alexisborough     0 1\n",
            "  South Blakestad         1 0\n",
            "  South Brian             1 0\n",
            "  South Cathyfurt         0 1\n",
            "  South Christopher       1 0\n",
            "  South Corey             1 0\n",
            "  South Cynthiashire      0 1\n",
            "  South Daniel            0 1\n",
            "  South Daniellefort      1 0\n",
            "  South Davidhaven        0 1\n",
            "  South Davidmouth        0 1\n",
            "  South Denise            1 0\n",
            "  South Denisefurt        1 0\n",
            "  South Dianeshire        1 0\n",
            "  South George            0 1\n",
            "  South Henry             0 1\n",
            "  South Jackieberg        0 1\n",
            "  South Jade              0 1\n",
            "  South Jaimeview         1 0\n",
            "  South Jasminebury       0 1\n",
            "  South Jeanneport        0 1\n",
            "  South Jennifer          1 0\n",
            "  South Jessica           0 1\n",
            "  South John              0 1\n",
            "  South Johnnymouth       0 1\n",
            "  South Kyle              0 1\n",
            "  South Lauraton          0 1\n",
            "  South Lauratown         0 1\n",
            "  South Lisa              0 2\n",
            "  South Manuel            1 0\n",
            "  South Margaret          0 1\n",
            "  South Mark              0 1\n",
            "  South Meghan            0 1\n",
            "  South Meredithmouth     1 0\n",
            "  South Pamela            1 0\n",
            "  South Patrickfort       1 0\n",
            "  South Peter             0 1\n",
            "  South Rebecca           0 1\n",
            "  South Renee             1 0\n",
            "  South Robert            1 0\n",
            "  South Ronald            1 0\n",
            "  South Stephanieport     1 0\n",
            "  South Tiffanyton        0 1\n",
            "  South Tomside           1 0\n",
            "  South Troy              1 0\n",
            "  South Vincentchester    0 1\n",
            "  South Walter            0 1\n",
            "  Staceyfort              0 1\n",
            "  Stephenborough          1 0\n",
            "  Stewartbury             1 0\n",
            "  Suzannetown             0 1\n",
            "  Sylviaview              1 0\n",
            "  Tammymouth              0 1\n",
            "  Tammyshire              0 1\n",
            "  Taylorberg              1 0\n",
            "  Taylorhaven             0 1\n",
            "  Taylormouth             0 1\n",
            "  Taylorport              1 0\n",
            "  Teresahaven             1 0\n",
            "  Thomasstad              1 0\n",
            "  Thomasview              1 0\n",
            "  Timothyfurt             0 1\n",
            "  Timothymouth            0 1\n",
            "  Timothyport             0 1\n",
            "  Timothytown             1 0\n",
            "  Tinachester             1 0\n",
            "  Tinaton                 0 1\n",
            "  Townsendfurt            1 0\n",
            "  Tracyhaven              0 1\n",
            "  Tranland                1 0\n",
            "  Troyville               1 0\n",
            "  Turnerchester           0 1\n",
            "  Turnerview              1 0\n",
            "  Turnerville             1 0\n",
            "  Tylerport               0 1\n",
            "  Valerieland             1 0\n",
            "  Vanessastad             0 1\n",
            "  Vanessaview             0 1\n",
            "  Villanuevastad          1 0\n",
            "  Villanuevaton           1 0\n",
            "  Wademouth               1 0\n",
            "  Wadestad                1 0\n",
            "  Wagnerchester           1 0\n",
            "  Wallacechester          1 0\n",
            "  Walshhaven              1 0\n",
            "  Waltertown              0 1\n",
            "  Watsonfort              1 0\n",
            "  Welchshire              0 1\n",
            "  Wendyton                1 0\n",
            "  Wendyville              0 1\n",
            "  West Alice              1 0\n",
            "  West Alyssa             1 0\n",
            "  West Amanda             0 2\n",
            "  West Andrew             1 0\n",
            "  West Angela             1 0\n",
            "  West Angelabury         1 0\n",
            "  West Annefort           0 1\n",
            "  West Aprilport          0 1\n",
            "  West Arielstad          1 0\n",
            "  West Barbara            1 0\n",
            "  West Benjamin           1 0\n",
            "  West Brad               0 1\n",
            "  West Brandonton         0 1\n",
            "  West Brenda             1 0\n",
            "  West Carmenfurt         1 0\n",
            "  West Casey              0 1\n",
            "  West Chloeborough       0 1\n",
            "  West Christopher        0 1\n",
            "  West Colin              1 0\n",
            "  West Connor             0 1\n",
            "  West Courtney           1 0\n",
            "  West Daleborough        1 0\n",
            "  West Dannyberg          1 0\n",
            "  West David              0 1\n",
            "  West Dennis             1 0\n",
            "  West Derekmouth         0 1\n",
            "  West Dylanberg          0 1\n",
            "  West Eduardotown        0 1\n",
            "  West Ericaport          0 1\n",
            "  West Ericfurt           0 1\n",
            "  West Gabriellamouth     0 1\n",
            "  West Gregburgh          1 0\n",
            "  West Guybury            1 0\n",
            "  West James              0 1\n",
            "  West Jane               0 1\n",
            "  West Jeremyside         0 1\n",
            "  West Jessicahaven       0 1\n",
            "  West Jodi               1 0\n",
            "  West Joseph             1 0\n",
            "  West Julia              0 1\n",
            "  West Justin             0 1\n",
            "  West Katiefurt          0 1\n",
            "  West Kevinfurt          0 1\n",
            "  West Lacey              1 0\n",
            "  West Leahton            0 1\n",
            "  West Lindseybury        0 1\n",
            "  West Lisa               1 0\n",
            "  West Lucas              1 0\n",
            "  West Mariafort          1 0\n",
            "  West Melaniefurt        0 1\n",
            "  West Melissashire       0 1\n",
            "  West Michaelhaven       1 0\n",
            "  West Michaelport        1 0\n",
            "  West Michaelshire       1 0\n",
            "  West Michaelstad        1 0\n",
            "  West Pamela             0 1\n",
            "  West Randy              0 1\n",
            "  West Raymondmouth       0 1\n",
            "  West Rhondamouth        1 0\n",
            "  West Ricardo            0 1\n",
            "  West Richard            0 1\n",
            "  West Robertside         1 0\n",
            "  West Roytown            1 0\n",
            "  West Russell            1 0\n",
            "  West Ryan               0 1\n",
            "  West Samantha           1 0\n",
            "  West Shannon            0 2\n",
            "  West Sharon             1 0\n",
            "  West Shaun              1 0\n",
            "  West Steven             2 0\n",
            "  West Sydney             1 0\n",
            "  West Tanner             1 0\n",
            "  West Tanya              0 1\n",
            "  West Terrifurt          1 0\n",
            "  West Thomas             1 0\n",
            "  West Tinashire          0 1\n",
            "  West Travismouth        0 1\n",
            "  West Wendyland          1 0\n",
            "  West William            0 1\n",
            "  West Zacharyborough     1 0\n",
            "  Westshire               0 1\n",
            "  Whiteport               0 1\n",
            "  Whitneyfort             1 0\n",
            "  Wilcoxport              0 1\n",
            "  Williammouth            0 1\n",
            "  Williamport             1 0\n",
            "  Williamsborough         0 1\n",
            "  Williamsfort            0 1\n",
            "  Williamsmouth           0 1\n",
            "  Williamsport            1 2\n",
            "  Williamsside            1 0\n",
            "  Williamstad             0 1\n",
            "  Wilsonburgh             1 0\n",
            "  Wintersfort             1 0\n",
            "  Wongland                1 0\n",
            "  Wrightburgh             2 0\n",
            "  Wrightview              0 1\n",
            "  Yangside                0 1\n",
            "  Youngburgh              1 0\n",
            "  Youngfort               0 1\n",
            "  Yuton                   0 1\n",
            "  Zacharystad             1 0\n",
            "  Zacharyton              0 1\n"
          ],
          "name": "stdout"
        }
      ]
    },
    {
      "cell_type": "markdown",
      "metadata": {
        "id": "ZfbPg3UxSgeH"
      },
      "source": [
        "###Improving the solution: \n",
        "creating a function that returns the highest and lowest values of a specific column so that you do not have to manually go through each individual record.\n"
      ]
    },
    {
      "cell_type": "code",
      "metadata": {
        "colab": {
          "base_uri": "https://localhost:8080/"
        },
        "id": "VK2RVjZ0SiEZ",
        "outputId": "b5e3b868-fb09-433f-c524-2722b1f5c1c1"
      },
      "source": [
        "%%R\n",
        "install.packages(\"corrplot\")\n",
        "library(corrplot)"
      ],
      "execution_count": 74,
      "outputs": [
        {
          "output_type": "stream",
          "text": [
            "R[write to console]: Installing package into ‘/usr/local/lib/R/site-library’\n",
            "(as ‘lib’ is unspecified)\n",
            "\n",
            "R[write to console]: trying URL 'https://cran.rstudio.com/src/contrib/corrplot_0.90.tar.gz'\n",
            "\n",
            "R[write to console]: Content type 'application/x-gzip'\n",
            "R[write to console]:  length 2820127 bytes (2.7 MB)\n",
            "\n",
            "R[write to console]: =\n",
            "R[write to console]: =\n",
            "R[write to console]: =\n",
            "R[write to console]: =\n",
            "R[write to console]: =\n",
            "R[write to console]: =\n",
            "R[write to console]: =\n",
            "R[write to console]: =\n",
            "R[write to console]: =\n",
            "R[write to console]: =\n",
            "R[write to console]: =\n",
            "R[write to console]: =\n",
            "R[write to console]: =\n",
            "R[write to console]: =\n",
            "R[write to console]: =\n",
            "R[write to console]: =\n",
            "R[write to console]: =\n",
            "R[write to console]: =\n",
            "R[write to console]: =\n",
            "R[write to console]: =\n",
            "R[write to console]: =\n",
            "R[write to console]: =\n",
            "R[write to console]: =\n",
            "R[write to console]: =\n",
            "R[write to console]: =\n",
            "R[write to console]: =\n",
            "R[write to console]: =\n",
            "R[write to console]: =\n",
            "R[write to console]: =\n",
            "R[write to console]: =\n",
            "R[write to console]: =\n",
            "R[write to console]: =\n",
            "R[write to console]: =\n",
            "R[write to console]: =\n",
            "R[write to console]: =\n",
            "R[write to console]: =\n",
            "R[write to console]: =\n",
            "R[write to console]: =\n",
            "R[write to console]: =\n",
            "R[write to console]: =\n",
            "R[write to console]: =\n",
            "R[write to console]: =\n",
            "R[write to console]: =\n",
            "R[write to console]: =\n",
            "R[write to console]: =\n",
            "R[write to console]: =\n",
            "R[write to console]: =\n",
            "R[write to console]: =\n",
            "R[write to console]: =\n",
            "R[write to console]: =\n",
            "R[write to console]: \n",
            "\n",
            "R[write to console]: downloaded 2.7 MB\n",
            "\n",
            "\n",
            "R[write to console]: \n",
            "\n",
            "R[write to console]: \n",
            "R[write to console]: The downloaded source packages are in\n",
            "\t‘/tmp/RtmpDxJd8e/downloaded_packages’\n",
            "R[write to console]: \n",
            "R[write to console]: \n",
            "\n",
            "R[write to console]: corrplot 0.90 loaded\n",
            "\n"
          ],
          "name": "stderr"
        }
      ]
    },
    {
      "cell_type": "code",
      "metadata": {
        "colab": {
          "base_uri": "https://localhost:8080/",
          "height": 496
        },
        "id": "YLMOIlwrSlzp",
        "outputId": "18112fde-95da-44bf-8981-0b90046f8d4a"
      },
      "source": [
        "%%R\n",
        "#Get the correlation matrix\n",
        "res = cor(num)\n",
        "#Plotting a correlation plot\n",
        "corrplot(res, method=\"color\",addCoef.col = \"black\", \n",
        "         tl.col=\"black\", tl.srt=45)"
      ],
      "execution_count": 75,
      "outputs": [
        {
          "output_type": "display_data",
          "data": {
            "image/png": "[encoded data removed]"
          },
          "metadata": {}
        }
      ]
    },
    {
      "cell_type": "markdown",
      "metadata": {
        "id": "n9jyIxvySog9"
      },
      "source": [
        "There is a fare correlation between amount spent on site and the Daily internet usage.\n"
      ]
    },
    {
      "cell_type": "markdown",
      "metadata": {
        "id": "j3SncrSeSrOM"
      },
      "source": [
        "#### Scatter Plot"
      ]
    },
    {
      "cell_type": "code",
      "metadata": {
        "colab": {
          "base_uri": "https://localhost:8080/",
          "height": 496
        },
        "id": "yXxFLBGHSvPc",
        "outputId": "2f1a3df9-a964-4828-d002-1c2e78f3be94"
      },
      "source": [
        "%%R\n",
        "x <-df_clean$Daily.Internet.Usage\n",
        "y <-  df_clean$Daily.Time.Spent.on.Site\n",
        "# Plot with main and axis titles\n",
        "# Change point shape (pch = 19) and remove frame.\n",
        "plot(x, y, main = \"Time spent on site vs Daily Internet Usage\",\n",
        "     xlab = \"Daily Internet Usage\", ylab = \"Time sspent on site\",\n",
        "     pch = 20)"
      ],
      "execution_count": 76,
      "outputs": [
        {
          "output_type": "display_data",
          "data": {
            "image/png": "[encoded data removed]"
          },
          "metadata": {}
        }
      ]
    },
    {
      "cell_type": "markdown",
      "metadata": {
        "id": "6IBfncXTSyju"
      },
      "source": [
        "The points are all over but our data points are not highly correlated which explains this. But we can see that people who spend less time on site use less internet. Also, most of the people who use alot of internet per day seem to spend a considerable amount of time on the site.\n"
      ]
    },
    {
      "cell_type": "code",
      "metadata": {
        "colab": {
          "base_uri": "https://localhost:8080/",
          "height": 496
        },
        "id": "iTlM9vC0S1wu",
        "outputId": "59953fee-44f4-4f2a-9a94-9b67966bea02"
      },
      "source": [
        "%%R\n",
        "#Time Spent on internet and it's relationship to clicking an ad\n",
        "ggplot(df_clean, \n",
        "       aes(x = Daily.Time.Spent.on.Site, \n",
        "           fill = Clicked.on.Ad)) +\n",
        "  geom_density(alpha = 0.4) +\n",
        "  labs(title = \"Relationship between time spent on site and chances of clicking on an ad\")\n"
      ],
      "execution_count": 77,
      "outputs": [
        {
          "output_type": "display_data",
          "data": {
            "image/png": "[encoded data removed]"
          },
          "metadata": {}
        }
      ]
    },
    {
      "cell_type": "markdown",
      "metadata": {
        "id": "1ITIQel8S4ru"
      },
      "source": [
        "People who spend less time on the site are likely to click on an ad as compared to those who spend alot of time on the site.\n"
      ]
    },
    {
      "cell_type": "code",
      "metadata": {
        "colab": {
          "base_uri": "https://localhost:8080/",
          "height": 496
        },
        "id": "ot1xCvQZS6kh",
        "outputId": "298f62f3-52a0-4d8d-f5f5-f16cbcb9ea61"
      },
      "source": [
        "%%R\n",
        "#Internet Usage and it's relationship to clicking an ad\n",
        "ggplot(df_clean, \n",
        "       aes(x = Daily.Internet.Usage, \n",
        "           fill = Clicked.on.Ad)) +\n",
        "  geom_density(alpha = 0.4) +\n",
        "  labs(title = \"Relationship between time spent on site and chances of clicking on an ad\")\n"
      ],
      "execution_count": 78,
      "outputs": [
        {
          "output_type": "display_data",
          "data": {
            "image/png": "[encoded data removed]"
          },
          "metadata": {}
        }
      ]
    },
    {
      "cell_type": "markdown",
      "metadata": {
        "id": "b4Ilt4YUS9hu"
      },
      "source": [
        "It seems the longer people spend on the internet, the likelier they are to click on the ads.\n"
      ]
    },
    {
      "cell_type": "markdown",
      "metadata": {
        "id": "XP9HSFrwS_Hb"
      },
      "source": [
        "## Conclusion\n",
        "\n",
        "i) People who have a daily internet usage of less than 175 are more likely to click on an ad\n",
        "ii) People who spend less than 70mins on the site are likely to click on ad\n",
        "iii) People above 40 are more likely to click on an ad\n",
        "iv) People with an income of less than 60000 are most likely to click on an ad"
      ]
    },
    {
      "cell_type": "markdown",
      "metadata": {
        "id": "1la6lph2TCmb"
      },
      "source": [
        "## Challenging the solution\n",
        "\n",
        "i) It would be great to do some hypothesis testing on the conclusions made from Exploratory Data Analysis, this way we could ascertain the chances of specific person clicking on an ad or not.\n",
        "ii) Also, it would be necessary to create a predictive model and perform some feature importance selection to choose which variables are most important to use when deciding who will click on an ad or not when using the website.\n"
      ]
    }
  ]
}